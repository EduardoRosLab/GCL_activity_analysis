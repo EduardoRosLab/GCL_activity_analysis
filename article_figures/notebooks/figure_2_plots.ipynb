{
 "cells": [
  {
   "cell_type": "code",
   "execution_count": 1,
   "id": "0d5b3413",
   "metadata": {},
   "outputs": [],
   "source": [
    "# Importing libraries\n",
    "from pyedlut import simulation_wrapper as pyedlut\n",
    "import matplotlib.pyplot as plt\n",
    "import numpy as np\n",
    "import pandas as pd\n",
    "import os\n",
    "from scipy.stats import norm\n",
    "import scipy.stats as stats \n",
    "import seaborn as sns\n",
    "from scipy.ndimage import gaussian_filter\n",
    "\n",
    "## Importing functions\n",
    "import sys\n",
    "sys.path.insert(1, '../data')\n",
    "import figure_2_functions as fun\n",
    "import simulation_function as sim\n",
    "import plot_spikes_function as scatter"
   ]
  },
  {
   "cell_type": "code",
   "execution_count": 2,
   "id": "a27f1860",
   "metadata": {},
   "outputs": [],
   "source": [
    "## Creating plots directory\n",
    "\n",
    "RESULTS_DIR = \"../results/figures_plots\"\n",
    "FIGURE_2_RESULTS_DIR = os.path.join(RESULTS_DIR, 'figure_2')\n",
    "os.makedirs(FIGURE_2_RESULTS_DIR, exist_ok = True)"
   ]
  },
  {
   "cell_type": "code",
   "execution_count": 3,
   "id": "c797ee05",
   "metadata": {},
   "outputs": [],
   "source": [
    "## Creating default parameters dictionary\n",
    "my_dict_default = {\"fraction\":0, \n",
    "            \"pattern\": 1,\n",
    "            \"sigma\": 5, \n",
    "            \"seed\": 0,\n",
    "            \"poisson_seed\": 0,\n",
    "            \"seed_noise\": 0,\n",
    "            \"noise\": 0.0, \n",
    "            \"mf_goc_w\": 0.0,\n",
    "            \"grc_goc_w\": 0.0,\n",
    "            \"num_patterns\": 12,\n",
    "            \"duration_pattern\": 0.25,\n",
    "            \"interval\": 0.25,\n",
    "            \"firing_rate\": 50.0, \n",
    "            \"step\": 5 \n",
    "}"
   ]
  },
  {
   "cell_type": "markdown",
   "id": "1db6738b",
   "metadata": {},
   "source": [
    "# OVERVIEW"
   ]
  },
  {
   "cell_type": "code",
   "execution_count": 4,
   "id": "26a06757",
   "metadata": {},
   "outputs": [],
   "source": [
    "## Creating dictionary to initially visualize the spikes\n",
    "dict_fig_overview = {\n",
    "    **my_dict_default,\n",
    "    \"fraction\": 4,\n",
    "    \"num_patterns\": 30, \n",
    "    \"mf_goc_w\": 0.10,\n",
    "    \"grc_goc_w\": 0.04,\n",
    "    \"duration_pattern\": 0.08, \n",
    "    \"interval\": 0.07\n",
    "}"
   ]
  },
  {
   "cell_type": "code",
   "execution_count": null,
   "id": "ac5041a9",
   "metadata": {},
   "outputs": [],
   "source": [
    "## Retrieving activity\n",
    "mf_activity = fun.mf_activity_overview(dict_fig_overview)\n",
    "## Running simulation\n",
    "oi, ot, _, _ = sim.simulation(dict_fig_overview, mf_activity)\n",
    "## Plotting spikes\n",
    "fig = scatter.plot_spikes(oi, ot, dict_fig_overview, 0.0, 10*dict_fig_overview[\"duration_pattern\"])"
   ]
  },
  {
   "cell_type": "markdown",
   "id": "63e563c1",
   "metadata": {},
   "source": [
    "# FIRST PATTERN (auditory stimulus simulation)"
   ]
  },
  {
   "cell_type": "code",
   "execution_count": 6,
   "id": "e6dd7a45",
   "metadata": {},
   "outputs": [],
   "source": [
    "## Setting parameter dictionary for the stimulus without inhibition\n",
    "dict_p1_without = {\n",
    "    **my_dict_default,\n",
    "    \"fraction\": 4,\n",
    "    \"pattern\": 7, \n",
    "\n",
    "}\n",
    "\n",
    "## Setting parameter dictionary for the stimulus with inhibition\n",
    "dict_p1_with = {\n",
    "    **my_dict_default,\n",
    "    \"fraction\": 4,\n",
    "    \"pattern\": 7, \n",
    "    \"mf_goc_w\": 0.20,\n",
    "    \"grc_goc_w\": 0.05\n",
    "}\n",
    "\n"
   ]
  },
  {
   "cell_type": "code",
   "execution_count": null,
   "id": "7fc3b68d",
   "metadata": {},
   "outputs": [],
   "source": [
    "## Running simulations of the stimuli presentations\n",
    "## Retrieving GrCs firing rates matrices\n",
    "mf_activity = fun.mf_activity_1(dict_p1_without)\n",
    "_, _, matrix_fr_without, _ = sim.simulation(dict_p1_without, mf_activity)\n",
    "\n",
    "mf_activity = fun.mf_activity_1(dict_p1_with)\n",
    "_, _, matrix_fr_with, _ = sim.simulation(dict_p1_with, mf_activity)\n",
    "\n"
   ]
  },
  {
   "cell_type": "markdown",
   "id": "4d9412ab",
   "metadata": {},
   "source": [
    "## Mean responses of GrCs for an \"auditory\" stimulus "
   ]
  },
  {
   "cell_type": "code",
   "execution_count": 8,
   "id": "fa070457",
   "metadata": {},
   "outputs": [],
   "source": [
    "## Calculation of mean firing rate before stimulation\n",
    "mean_with = matrix_fr_with.mean()\n",
    "mean_without = matrix_fr_without.mean()\n",
    "## Calculating the mean before the stimulus presentation\n",
    "mean_before_with = matrix_fr_with[:,:20].mean()\n",
    "mean_before_without = matrix_fr_without[:,:20].mean()\n",
    "\n",
    "## Joining in one matrix both with and without inhibition results\n",
    "matrix_fr = np.zeros((matrix_fr_with.shape[0], matrix_fr_with.shape[1], 2))\n",
    "\n",
    "# Dividing by their mean before the stimulus presentation, as we want ΔF/F\n",
    "matrix_fr[:, :, 0] = matrix_fr_with/mean_before_with\n",
    "matrix_fr[:, :, 1] = matrix_fr_without/mean_before_without\n"
   ]
  },
  {
   "cell_type": "code",
   "execution_count": null,
   "id": "54023b5e",
   "metadata": {
    "scrolled": false
   },
   "outputs": [],
   "source": [
    "## selecting number of GrCs that we want to plot (300 for the heatmap)\n",
    "num = 300  \n",
    "np.random.seed(6)\n",
    "set_index = np.random.choice(3760, num)\n",
    "\n",
    "fig, axn = plt.subplots(1, 2, figsize=(8, 5.5), sharex=True, sharey=True)\n",
    "\n",
    "#title_fig = \"GRC FIRING RATE DURING ONE PATTERN PRESENTATION\"\n",
    "#fig.suptitle(title_fig, fontsize=16)\n",
    "\n",
    "\n",
    "cbar_ax = fig.add_axes([.93, .125, .04, .76]) #left, bottom, width, height)\n",
    "plt.subplots_adjust(wspace=0.2, \n",
    "                    hspace=0.4)\n",
    "plt.rcParams[\"savefig.facecolor\"] = \"white\"\n",
    "for i, ax in enumerate(axn.flat):\n",
    "    \n",
    "    ## smoothing the matrix\n",
    "    smoothed_matrix = gaussian_filter(matrix_fr[set_index,:,i], sigma=1.0)\n",
    "    \n",
    "    ## plotting heatmap\n",
    "    sns.heatmap(smoothed_matrix, ax=ax, cmap = 'jet',\n",
    "                cbar=i == 0,\n",
    "                vmin=0, vmax=50,\n",
    "                cbar_ax=None if i else cbar_ax)\n",
    "    \n",
    "    ticksx = np.arange(0, matrix_fr.shape[1], matrix_fr.shape[1]/4)\n",
    "    ticksy = np.arange(0, num, num/6).astype(int)\n",
    "    \n",
    "    if i == 0:\n",
    "        ax.set_title('', fontsize = 16)\n",
    "    else:\n",
    "        ax.set_title('', fontsize = 16)\n",
    "\n",
    "    ax.set_xticks([])\n",
    "    ax.set_yticks(ticksy)\n",
    "    ax.set_yticklabels(ticksy, fontsize=16)\n",
    "    \n",
    "    for spine in ax.spines.values():\n",
    "        spine.set_visible(True)\n",
    "    \n",
    "    for spine in ax.spines.values():\n",
    "        spine.set(visible=True, lw=.8, edgecolor=\"black\")\n",
    "    \n",
    "    if i == 0:\n",
    "        ax.set_ylabel('Number of cells', fontsize = 18)\n",
    "    else:\n",
    "        ax.set_ylabel('')\n",
    "\n",
    "    ax.tick_params(axis='x', rotation=0)  \n",
    "    \n",
    "    if i == 1:        \n",
    "        ins2 = ax.inset_axes([0.70,-0.08,0.29,0.01])\n",
    "        ins2.spines[['left', 'top', 'right']].set_visible(False)\n",
    "        ins2.set_yticks([])\n",
    "        ins2.set_xticks([])\n",
    "        ins2.set_xlabel(\"1 s\", fontsize = 14)\n",
    "\n",
    "         \n",
    "for spine in cbar_ax.spines.values():\n",
    "    spine.set_visible(True)\n",
    "    \n",
    "for spine in cbar_ax.spines.values():\n",
    "    spine.set(visible=True, lw=.8, edgecolor=\"black\")        \n",
    "\n",
    "cbar_ax.tick_params(labelsize= 16)\n",
    "cbar_ax.set_ylabel(\"ΔF/F\", fontsize = 20, rotation = 270, labelpad=30)   \n",
    "\n",
    "fig.savefig(FIGURE_2_RESULTS_DIR + '/heatmap_pattern_1.png', bbox_inches=\"tight\", dpi = 600)\n"
   ]
  },
  {
   "cell_type": "markdown",
   "id": "4c2ac9f7",
   "metadata": {},
   "source": [
    "## Repetition of stimulus in different trials"
   ]
  },
  {
   "cell_type": "code",
   "execution_count": null,
   "id": "78199c31",
   "metadata": {
    "scrolled": true
   },
   "outputs": [],
   "source": [
    "## Repeating the pattern for 10 trials (updating the seed of the poisson generator for every trial)\n",
    "times = 10\n",
    "\n",
    "## Running simulations\n",
    "mf_activity = fun.mf_activity_1(dict_p1_without)\n",
    "_, _, matrix_fr_without, _ = sim.simulation(dict_p1_without, mf_activity)\n",
    "\n",
    "mf_activity = fun.mf_activity_1(dict_p1_with)\n",
    "_, _, matrix_fr_with, _ = sim.simulation(dict_p1_with, mf_activity)\n",
    "\n",
    "\n",
    "# Dividing by their mean before the stimulus presentation, as we want ΔF/F\n",
    "mean_before_with = matrix_fr_with[:,:20].mean()\n",
    "mean_before_without = matrix_fr_without[:,:20].mean()\n",
    "\n",
    "## Creating matrices to store average firing rates of trials\n",
    "matrix1 = np.zeros((matrix_fr_with.shape[0], matrix_fr_with.shape[1], times))\n",
    "matrix2 = np.zeros((matrix_fr_with.shape[0], matrix_fr_with.shape[1], times))\n",
    "matrix1[:,:,0] = matrix_fr_with/mean_before_with\n",
    "matrix2[:,:,0] = matrix_fr_without/mean_before_without\n",
    "\n",
    "for i in range(times-1):\n",
    "    \n",
    "    dict_p1_without = {\n",
    "        **my_dict_default,\n",
    "        \"fraction\": 4,\n",
    "        \"pattern\": 7, \n",
    "        \"poisson_seed\": i+1\n",
    "    }\n",
    "\n",
    "    dict_p1_with = {\n",
    "        **my_dict_default,\n",
    "        \"fraction\": 4,\n",
    "        \"pattern\": 7, \n",
    "        \"mf_goc_w\": 0.20,\n",
    "        \"grc_goc_w\": 0.05, \n",
    "        \"poisson_seed\": i+1\n",
    "    }\n",
    "\n",
    "    mf_activity = fun.mf_activity_1(dict_p1_without)\n",
    "    _, _, matrix_fr_without, _ = sim.simulation(dict_p1_without, mf_activity)\n",
    "\n",
    "    mf_activity = fun.mf_activity_1(dict_p1_with)\n",
    "    _, _, matrix_fr_with, _ = sim.simulation(dict_p1_with, mf_activity)\n",
    "\n",
    "    mean_before_with = matrix_fr_with[:,:20].mean()\n",
    "    mean_before_without = matrix_fr_without[:,:20].mean()\n",
    "    matrix1[:,:,i+1] = matrix_fr_with/mean_before_with\n",
    "    matrix2[:,:,i+1] = matrix_fr_without/mean_before_without\n"
   ]
  },
  {
   "cell_type": "markdown",
   "id": "6873e0d2",
   "metadata": {},
   "source": [
    "## Example of firing rates from a granule cell on sequential pattern presentation trials with and without inhibition"
   ]
  },
  {
   "cell_type": "code",
   "execution_count": null,
   "id": "1824ad2b",
   "metadata": {},
   "outputs": [],
   "source": [
    "## Selecting one GrC to show its firing rates\n",
    "cell = 1603\n",
    "\n",
    "m_1 = matrix1[cell,:,:].T\n",
    "m_2 = matrix2[cell,:,:].T\n",
    "m1 = gaussian_filter(m_1, sigma=0.5)\n",
    "m2 = gaussian_filter(m_2, sigma=0.5)\n",
    "fig, (ax1, ax2) = plt.subplots(nrows=1, ncols=2, figsize = (8, 4))\n",
    "x = np.arange(0, m1.shape[1], 1)\n",
    "for i in range(times):\n",
    "    ax1.plot(x, m1[i,:] - i*28.0, c = 'black')\n",
    "    ax2.plot(x, m2[i,:] - i*28.0, c = 'red')\n",
    "\n",
    "ax1.set_ylim([m2[-1,:].min() - (times-1)*32.0, m2[0,:].max() + 40])\n",
    "ax2.set_ylim([m2[-1,:].min() - (times-1)*32.0, m2[0,:].max() + 40])\n",
    "    \n",
    "ax1.axis(\"off\")\n",
    "ax2.axis(\"off\")\n",
    "\n",
    "ax1.set_title(\"Control\", color = 'black', fontsize = 14)\n",
    "ax2.set_title(\"DART\", color = 'red', fontsize = 14)\n",
    "\n",
    "ins2 = ax2.inset_axes([0.68,-0.08,0.29,0.12])\n",
    "ins2.spines[['left', 'top']].set_visible(False)\n",
    "ins2.set_yticks([])\n",
    "ins2.set_xticks([])\n",
    "ins2.set_xlabel(\"1 s\", fontsize = 14)\n",
    "\n",
    "ax1.arrow(-3.0,5 , 0, -255, head_width=4, color = 'black')\n",
    "\n",
    "ax1.set_ylabel('Trials', fontsize = 14)\n",
    "\n",
    "# arrows \n",
    "ax1.arrow(17, 80, 0, -65, head_width=4, color = 'black')\n",
    "ax2.arrow(17, 80, 0, -65, head_width=4, color = 'black')\n",
    "ax1.text(16,80, \"---------------------------|\", fontsize = 14)\n",
    "ax2.text(16,80, \"----------------------------|\", fontsize = 14)\n",
    "\n",
    "fig.text(0.75,0.1, \"100% ΔF/F\", fontsize = 14)\n",
    "\n",
    "fig.text(0.37,0.1, \"Cell \" + str(cell), fontsize = 14)\n",
    "fig.text(0.12,0.40, \"Trials\", fontsize = 16, rotation = 90)\n",
    "plt.subplots_adjust(wspace=0.1)\n",
    "\n",
    "fig.savefig(FIGURE_2_RESULTS_DIR + '/trials_cell_' + str(cell) + '_1.png', bbox_inches=\"tight\", dpi = 200)"
   ]
  },
  {
   "cell_type": "markdown",
   "id": "8df44ac6",
   "metadata": {},
   "source": [
    "## Mean time course of responses during pattern presentation with and without inhibition"
   ]
  },
  {
   "cell_type": "code",
   "execution_count": null,
   "id": "b2e63712",
   "metadata": {},
   "outputs": [],
   "source": [
    "## Calculating the average GrC firing rate  for inhibition and no inhibition\n",
    "smoothed_matrix1 = gaussian_filter(matrix1.mean(axis = 2), sigma=1.5)\n",
    "smoothed_matrix2 = gaussian_filter(matrix2.mean(axis = 2), sigma=1.5)\n",
    "response_with = sum(smoothed_matrix1)/matrix_fr_with.shape[0]\n",
    "response_without = sum(smoothed_matrix2)/matrix_fr_with.shape[0]\n",
    "\n",
    "plt.rcParams[\"figure.figsize\"] = (2.8,4)\n",
    "fig, ax = plt.subplots()\n",
    "\n",
    "time = np.arange(0, matrix_fr_with.shape[1], 1)\n",
    "ax.scatter(time, response_without, label = 'DART', s =20,  facecolors='none', edgecolors='r')\n",
    "ax.plot(time, response_without, c = 'red')\n",
    "ax.scatter(time, response_with, label = 'control', s = 20, facecolors='none', edgecolors='black')\n",
    "ax.plot(time, response_with, c = 'black')\n",
    "\n",
    "ax.spines[['right', 'top']].set_visible(False)\n",
    "ax.set_xticks([0, 20, 40, 60])\n",
    "ax.set_xticklabels([-1, 0, 1, 2])\n",
    "plt.tick_params(axis ='both', labelsize = 15)\n",
    "ax.set_ylabel('Response (ΔF/F)', fontsize = 15)\n",
    "ax.set_xlabel('Time (s)', fontsize = 15)\n",
    "leg = ax.legend(fontsize = 12)\n",
    "colors = ['red', 'black']\n",
    "for color,text in zip(colors,leg.get_texts()):\n",
    "    text.set_color(color)\n",
    "    \n",
    "fig.savefig(FIGURE_2_RESULTS_DIR + '/avg_firing_rate_1.png', bbox_inches=\"tight\", dpi = 200)"
   ]
  },
  {
   "cell_type": "markdown",
   "id": "3a88d7f7",
   "metadata": {},
   "source": [
    "## Mean response amplitude for individual cells (firing rate)"
   ]
  },
  {
   "cell_type": "code",
   "execution_count": 13,
   "id": "932aa2a5",
   "metadata": {},
   "outputs": [],
   "source": [
    "## Calculating the mean response amplitude (firing rate after stimulus substracted by firing rate before stimulus)\n",
    "## for each cell \n",
    "mean1 = smoothed_matrix1.mean()\n",
    "before = smoothed_matrix1[:, :20]\n",
    "after = smoothed_matrix1[:, 20:]\n",
    "before = before.mean(axis = 1)\n",
    "after = after.mean(axis = 1)\n",
    "\n",
    "## Mean response amplitude\n",
    "mean_amp_with = (after - before)"
   ]
  },
  {
   "cell_type": "code",
   "execution_count": 14,
   "id": "c8a88acf",
   "metadata": {},
   "outputs": [],
   "source": [
    "mean2 = smoothed_matrix2.mean()\n",
    "before = smoothed_matrix2[:, :20]\n",
    "after = smoothed_matrix2[:, 20:]\n",
    "before = before.mean(axis = 1)\n",
    "after = after.mean(axis = 1)\n",
    "\n",
    "## Mean response amplitude\n",
    "mean_amp_without = (after - before)"
   ]
  },
  {
   "cell_type": "code",
   "execution_count": 15,
   "id": "37c2513e",
   "metadata": {},
   "outputs": [],
   "source": [
    "## Creating the dataframes\n",
    "\n",
    "df_with = pd.DataFrame(mean_amp_with)\n",
    "df_without = pd.DataFrame(mean_amp_without)\n",
    "df_with['Type'] = ['Control']*mean_amp_with.shape[0]\n",
    "df_with = df_with.rename(columns={0: 'Mean amplitude'})\n",
    "df_without['Type'] = ['DART']*mean_amp_without.shape[0]\n",
    "df_without = df_without.rename(columns={0: 'Mean amplitude'})\n",
    "\n",
    "## Selecting only a small subset of GrCs\n",
    "x = np.random.choice(mean_amp_with.shape[0], 400)\n",
    "df_probs = pd.concat([df_with.iloc[x], df_without.iloc[x]], axis=0)\n",
    "\n",
    "# Saving here all the samples results\n",
    "df_probs2 = pd.concat([df_with, df_without], axis=0)"
   ]
  },
  {
   "cell_type": "code",
   "execution_count": null,
   "id": "8d90f758",
   "metadata": {},
   "outputs": [],
   "source": [
    "# Performing the paired sample t-test \n",
    "## Notice that P-values results were calculated and then they were manually written in every plot\n",
    "## Therefore they should be edited for each combination of parameters computed\n",
    "stats.ttest_rel(mean_amp_with, mean_amp_without) "
   ]
  },
  {
   "cell_type": "code",
   "execution_count": null,
   "id": "8f710f53",
   "metadata": {
    "scrolled": false
   },
   "outputs": [],
   "source": [
    "## Plotting swarmplots with all GrCs \n",
    "\n",
    "fig, ax = plt.subplots()\n",
    "plt.rcParams[\"figure.figsize\"] = (2.8,4)\n",
    "my_pal = {\"Control\": \"black\", \"DART\": \"red\"}\n",
    "\n",
    "ax = sns.swarmplot(x=\"Type\", y=\"Mean amplitude\", data=df_probs, size = 3, palette = my_pal, alpha = 1.0, edgecolors = 'black')\n",
    "ax.spines[['right', 'top']].set_visible(False)\n",
    "\n",
    "ax.set_ylabel('Av. Amp. (ΔF/F)', fontsize = 15)\n",
    "ax.set(xlabel=None)\n",
    "\n",
    "df_mean = df_probs2.groupby('Type', sort=False)['Mean amplitude'].mean()\n",
    "_ = [ax.hlines(y, i-.45, i+.45, zorder=2, colors = 'black', linewidth=2) for i, y in df_mean.reset_index()['Mean amplitude'].items()]\n",
    "ax.axhline(y = 0.0, color = 'black', linestyle = '--') \n",
    "plt.tick_params(axis ='both', labelsize = 15)\n",
    "plt.text(0.3, 38, '****', fontsize = 15)\n",
    "\n",
    "fig.savefig(FIGURE_2_RESULTS_DIR + '/mean_response_amplitude_1.png', bbox_inches=\"tight\", dpi = 200)"
   ]
  },
  {
   "cell_type": "code",
   "execution_count": null,
   "id": "4133f323",
   "metadata": {
    "scrolled": false
   },
   "outputs": [],
   "source": [
    "## Plotting violinplots with all GrCs \n",
    "\n",
    "fig, ax = plt.subplots()\n",
    "plt.rcParams[\"figure.figsize\"] = (2.8,4)\n",
    "my_pal = {\"Control\": \"black\", \"DART\": \"red\"}\n",
    "\n",
    "ax = sns.violinplot(x=\"Type\", y=\"Mean amplitude\", data=df_probs2, palette = my_pal, alpha = 1.0)\n",
    "ax.spines[['right', 'top']].set_visible(False)\n",
    "\n",
    "ax.set_ylabel('Av. Amp. (ΔF/F)', fontsize = 15)\n",
    "ax.set(xlabel=None)\n",
    "\n",
    "df_mean = df_probs2.groupby('Type', sort=False)['Mean amplitude'].mean()\n",
    "_ = [ax.hlines(y, i-.45, i+.45, zorder=2, colors = 'black', linewidth=2) for i, y in df_mean.reset_index()['Mean amplitude'].items()]\n",
    "ax.axhline(y = 0.0, color = 'black', linestyle = '--') \n",
    "plt.tick_params(axis ='both', labelsize = 15)\n",
    "plt.text(0.3, 38, '****', fontsize = 15)\n",
    "\n",
    "fig.savefig(FIGURE_2_RESULTS_DIR + '/mean_response_amplitude_violin_1.png', bbox_inches=\"tight\", dpi = 200)"
   ]
  },
  {
   "cell_type": "code",
   "execution_count": null,
   "id": "4001e3e9",
   "metadata": {},
   "outputs": [],
   "source": []
  },
  {
   "cell_type": "code",
   "execution_count": null,
   "id": "be68de44",
   "metadata": {},
   "outputs": [],
   "source": [
    "## Checking mean\n",
    "df_mean"
   ]
  },
  {
   "cell_type": "code",
   "execution_count": null,
   "id": "4664b802",
   "metadata": {
    "scrolled": true
   },
   "outputs": [],
   "source": [
    "# Checking standard deviation\n",
    "df_sem = df_probs2.groupby('Type', sort=False)['Mean amplitude'].sem()\n",
    "df_sem"
   ]
  },
  {
   "cell_type": "markdown",
   "id": "40dedc07",
   "metadata": {},
   "source": [
    "## Mean spike probability for each cell "
   ]
  },
  {
   "cell_type": "code",
   "execution_count": 21,
   "id": "7009bd0f",
   "metadata": {},
   "outputs": [],
   "source": [
    "## Calculating the spike probability for each GrC \n",
    "prob_with = np.sum(smoothed_matrix1, axis = 1)/np.sum(smoothed_matrix1, axis = 1).max()\n",
    "prob_without = np.sum(smoothed_matrix2, axis = 1)/np.sum(smoothed_matrix2, axis = 1).max()\n",
    "df_with = pd.DataFrame(prob_with)\n",
    "df_without = pd.DataFrame(prob_without)\n",
    "df_with['Type'] = ['Control']*prob_with.shape[0]\n",
    "df_with = df_with.rename(columns={0: 'Single Trial Probability'})\n",
    "df_without['Type'] = ['DART']*prob_without.shape[0]\n",
    "df_without = df_without.rename(columns={0: 'Single Trial Probability'})\n",
    "\n",
    "## Selecting only a small subset of GrCs\n",
    "x = np.random.choice(prob_with.shape[0], 400)\n",
    "df_probs = pd.concat([df_with.iloc[x], df_without.iloc[x]], axis=0)\n",
    "\n",
    "# Saving here all the samples results\n",
    "df_probs2 = pd.concat([df_with, df_without], axis=0)"
   ]
  },
  {
   "cell_type": "code",
   "execution_count": null,
   "id": "759911f6",
   "metadata": {},
   "outputs": [],
   "source": [
    "# Performing the paired sample t-test \n",
    "stats.ttest_rel(df_with['Single Trial Probability'], df_without['Single Trial Probability']) "
   ]
  },
  {
   "cell_type": "code",
   "execution_count": null,
   "id": "e0343773",
   "metadata": {
    "scrolled": false
   },
   "outputs": [],
   "source": [
    "## Plotting swarmplots with the subset of GrCs \n",
    "\n",
    "fig, ax = plt.subplots()\n",
    "plt.rcParams[\"figure.figsize\"] = (2.8,4)\n",
    "my_pal = {\"Control\": \"black\", \"DART\": \"red\"}\n",
    "\n",
    "ax = sns.swarmplot(x=\"Type\", y=\"Single Trial Probability\", data=df_probs, size = 3, palette = my_pal, edgecolors = 'black')\n",
    "ax.spines[['right', 'top']].set_visible(False)\n",
    "ax.set(xlabel=None)\n",
    "ax.set_ylabel('Single Trial Pr.', fontsize = 15)\n",
    "ax.set_ylim([0.0, 1.0])\n",
    "df_mean = df_probs2.groupby('Type', sort=False)['Single Trial Probability'].mean()\n",
    "_ = [ax.hlines(y, i-.45, i+.45, zorder=2, colors = 'black', linewidth=2) for i, y in df_mean.reset_index()['Single Trial Probability'].items()]\n",
    "plt.tick_params(axis ='both', labelsize = 15)\n",
    "plt.text(0.3, 0.98, '****', fontsize = 15)\n",
    "\n",
    "fig.savefig(FIGURE_2_RESULTS_DIR + '/spike_probability_1.png', bbox_inches=\"tight\", dpi = 200)"
   ]
  },
  {
   "cell_type": "code",
   "execution_count": null,
   "id": "0ece0e19",
   "metadata": {},
   "outputs": [],
   "source": [
    "## Plotting violinplots with all GrCs \n",
    "\n",
    "fig, ax = plt.subplots()\n",
    "plt.rcParams[\"figure.figsize\"] = (2.8,4)\n",
    "my_pal = {\"Control\": \"black\", \"DART\": \"red\"}\n",
    "\n",
    "ax = sns.violinplot(x=\"Type\", y=\"Single Trial Probability\", data=df_probs2, palette = my_pal, alpha = 1.0, cut = 0)\n",
    "ax.spines[['right', 'top']].set_visible(False)\n",
    "ax.set(xlabel=None)\n",
    "ax.set_ylabel('Single Trial Pr.', fontsize = 15)\n",
    "ax.set_ylim([0.0, 1.0])\n",
    "df_mean = df_probs2.groupby('Type', sort=False)['Single Trial Probability'].mean()\n",
    "_ = [ax.hlines(y, i-.45, i+.45, zorder=2, colors = 'black', linewidth=2) for i, y in df_mean.reset_index()['Single Trial Probability'].items()]\n",
    "plt.tick_params(axis ='both', labelsize = 15)\n",
    "plt.text(0.3, 0.98, '****', fontsize = 15)\n",
    "\n",
    "fig.savefig(FIGURE_2_RESULTS_DIR + '/spike_probability_violin_1.png', bbox_inches=\"tight\", dpi = 200)\n"
   ]
  },
  {
   "cell_type": "code",
   "execution_count": null,
   "id": "fa39c0d0",
   "metadata": {},
   "outputs": [],
   "source": [
    "df_mean"
   ]
  },
  {
   "cell_type": "code",
   "execution_count": null,
   "id": "7d9943b6",
   "metadata": {},
   "outputs": [],
   "source": [
    "df_sem = df_probs2.groupby('Type', sort=False)[\"Single Trial Probability\"].sem()\n",
    "df_sem"
   ]
  },
  {
   "cell_type": "markdown",
   "id": "c2dcc693",
   "metadata": {},
   "source": [
    "## Single trial amplitude (firing rate) "
   ]
  },
  {
   "cell_type": "code",
   "execution_count": 27,
   "id": "b0fe691d",
   "metadata": {},
   "outputs": [],
   "source": [
    "array1 = (matrix1[:, 20:, 0].mean(axis = 1))\n",
    "array2 = (matrix2[:, 20:, 0].mean(axis = 1))\n",
    "\n",
    "## Considering only the significant GrCs for the inhibition case\n",
    "significant_1 = np.where(array1 > 0)[0]"
   ]
  },
  {
   "cell_type": "code",
   "execution_count": null,
   "id": "2423a73d",
   "metadata": {},
   "outputs": [],
   "source": [
    "significant_1.shape"
   ]
  },
  {
   "cell_type": "code",
   "execution_count": 29,
   "id": "1682ff5f",
   "metadata": {},
   "outputs": [],
   "source": [
    "mean1 = smoothed_matrix1.mean()\n",
    "before = smoothed_matrix1[significant_1, :20]\n",
    "after = smoothed_matrix1[significant_1, 20:]\n",
    "before = before.mean(axis = 1)\n",
    "after = after.mean(axis = 1)\n",
    "\n",
    "## Mean response amplitude\n",
    "mean_amp_with = (after - before)"
   ]
  },
  {
   "cell_type": "code",
   "execution_count": 30,
   "id": "41aa0b9f",
   "metadata": {},
   "outputs": [],
   "source": [
    "mean2 = smoothed_matrix2.mean()\n",
    "before = smoothed_matrix2[significant_1, :20]\n",
    "after = smoothed_matrix2[significant_1, 20:]\n",
    "before = before.mean(axis = 1)\n",
    "after = after.mean(axis = 1)\n",
    "\n",
    "## Mean response amplitude\n",
    "mean_amp_without = (after - before)"
   ]
  },
  {
   "cell_type": "code",
   "execution_count": 31,
   "id": "656e943b",
   "metadata": {},
   "outputs": [],
   "source": [
    "## Creating the dataframes\n",
    "\n",
    "df_with = pd.DataFrame(mean_amp_with)\n",
    "df_without = pd.DataFrame(mean_amp_without)\n",
    "df_with['Type'] = ['Control']*mean_amp_with.shape[0]\n",
    "df_with = df_with.rename(columns={0: 'Single Trial Amplitude'})\n",
    "df_without['Type'] = ['DART']*mean_amp_without.shape[0]\n",
    "df_without = df_without.rename(columns={0: 'Single Trial Amplitude'})\n",
    "\n",
    "## Selecting only a small subset of GrCs\n",
    "x = np.random.choice(mean_amp_with.shape[0], 400)\n",
    "df_probs = pd.concat([df_with.iloc[x], df_without.iloc[x]], axis=0)\n",
    "\n",
    "# Saving here all the samples results\n",
    "df_probs2 = pd.concat([df_with, df_without], axis=0)"
   ]
  },
  {
   "cell_type": "code",
   "execution_count": null,
   "id": "65f19a19",
   "metadata": {},
   "outputs": [],
   "source": [
    "# Performing the paired sample t-test \n",
    "stats.ttest_rel(df_with['Single Trial Amplitude'], df_without['Single Trial Amplitude']) "
   ]
  },
  {
   "cell_type": "code",
   "execution_count": null,
   "id": "3e434f06",
   "metadata": {},
   "outputs": [],
   "source": [
    "## Plotting swarmplots with the subset of GrCs \n",
    "\n",
    "fig, ax = plt.subplots()\n",
    "plt.rcParams[\"figure.figsize\"] = (2.8,4)\n",
    "my_pal = {\"Control\": \"black\", \"DART\": \"red\"}\n",
    "\n",
    "ax = sns.swarmplot(x=\"Type\", y=\"Single Trial Amplitude\", data=df_probs, size = 3, palette = my_pal, alpha = 1.0, edgecolors = 'black')\n",
    "ax.spines[['right', 'top']].set_visible(False)\n",
    "ax.set(xlabel=None)\n",
    "ax.set_ylabel('Single Trial Amp. (ΔF/F)', fontsize = 15)\n",
    "\n",
    "df_mean = df_probs2.groupby('Type', sort=False)['Single Trial Amplitude'].mean()\n",
    "_ = [ax.hlines(y, i-.45, i+.45, zorder=2, colors = 'black', linewidth=2) for i, y in df_mean.reset_index()['Single Trial Amplitude'].items()]\n",
    " \n",
    "plt.tick_params(axis ='both', labelsize = 15)\n",
    "plt.text(0.3, 39, '****', fontsize = 15)\n",
    "\n",
    "fig.savefig(FIGURE_2_RESULTS_DIR + '/single_trial_amplitude_1.png', bbox_inches=\"tight\", dpi = 200)"
   ]
  },
  {
   "cell_type": "code",
   "execution_count": null,
   "id": "740ce977",
   "metadata": {},
   "outputs": [],
   "source": [
    "## Plotting violinplots with all GrCs \n",
    "\n",
    "fig, ax = plt.subplots()\n",
    "plt.rcParams[\"figure.figsize\"] = (2.8,4)\n",
    "my_pal = {\"Control\": \"black\", \"DART\": \"red\"}\n",
    "\n",
    "ax = sns.violinplot(x=\"Type\", y=\"Single Trial Amplitude\", data=df_probs2,palette = my_pal, alpha = 1.0, cut = 0)\n",
    "ax.spines[['right', 'top']].set_visible(False)\n",
    "ax.set(xlabel=None)\n",
    "ax.set_ylabel('Single Trial Amp. (ΔF/F)', fontsize = 15)\n",
    "df_mean = df_probs2.groupby('Type', sort=False)['Single Trial Amplitude'].mean()\n",
    "_ = [ax.hlines(y, i-.45, i+.45, zorder=2, colors = 'black', linewidth=2) for i, y in df_mean.reset_index()['Single Trial Amplitude'].items()]\n",
    "\n",
    "plt.tick_params(axis ='both', labelsize = 15)\n",
    "plt.text(0.3, 39, '****', fontsize = 15)\n",
    "\n",
    "fig.savefig(FIGURE_2_RESULTS_DIR + '/single_trial_amplitude_violin_1.png', bbox_inches=\"tight\", dpi = 200)\n"
   ]
  },
  {
   "cell_type": "code",
   "execution_count": null,
   "id": "fa695ed3",
   "metadata": {},
   "outputs": [],
   "source": [
    "df_mean"
   ]
  },
  {
   "cell_type": "code",
   "execution_count": null,
   "id": "bb6b10fb",
   "metadata": {},
   "outputs": [],
   "source": [
    "df_sem = df_probs2.groupby('Type', sort=False)[\"Single Trial Amplitude\"].sem()\n",
    "df_sem"
   ]
  },
  {
   "cell_type": "markdown",
   "id": "8605832b",
   "metadata": {},
   "source": [
    "# SECOND PATTERN (somatosensory stimulus simulation)"
   ]
  },
  {
   "cell_type": "code",
   "execution_count": 37,
   "id": "5ef243f5",
   "metadata": {},
   "outputs": [],
   "source": [
    "## Creating dictionary to initially visualize the spikes\n",
    "\n",
    "dict_fig_overview = {\n",
    "    **my_dict_default,\n",
    "    \"fraction\": 4,\n",
    "    \"sigma\": 40,\n",
    "    \"firing_rate\": 100.0,\n",
    "    \"num_patterns\": 30, \n",
    "    \"mf_goc_w\": 0.10,\n",
    "    \"grc_goc_w\": 0.04,\n",
    "    \"duration_pattern\": 0.08, \n",
    "    \"interval\": 0.07\n",
    "}"
   ]
  },
  {
   "cell_type": "code",
   "execution_count": null,
   "id": "89efd98b",
   "metadata": {},
   "outputs": [],
   "source": [
    "## Rretrieving activity\n",
    "mf_activity = fun.mf_activity_overview(dict_fig_overview)\n",
    "## Running simulation\n",
    "oi, ot, _, matrix = sim.simulation(dict_fig_overview, mf_activity)\n",
    "## Plotting spikes\n",
    "fig = scatter.plot_spikes(oi, ot, dict_fig_overview, 0.0, 10*dict_fig_overview[\"duration_pattern\"])"
   ]
  },
  {
   "cell_type": "code",
   "execution_count": 39,
   "id": "aaff0263",
   "metadata": {},
   "outputs": [],
   "source": [
    "## Setting parameter dictionary for the stimulus without inhibition\n",
    "dict_p2_without = {\n",
    "    **my_dict_default,\n",
    "    \"fraction\": 3,\n",
    "    \"sigma\": 40,\n",
    "    \"pattern\": 11, \n",
    "    \"firing_rate\": 80.0,\n",
    "}\n",
    "\n",
    "## Setting parameter dictionary for the stimulus with inhibition\n",
    "dict_p2_with = {\n",
    "    **my_dict_default,\n",
    "    \"fraction\": 3,\n",
    "    \"sigma\": 40,\n",
    "    \"pattern\": 11, \n",
    "    \"mf_goc_w\": 0.20,\n",
    "    \"grc_goc_w\": 0.02,\n",
    "    \"firing_rate\": 80.0,\n",
    "}\n"
   ]
  },
  {
   "cell_type": "code",
   "execution_count": null,
   "id": "26fac2f4",
   "metadata": {},
   "outputs": [],
   "source": [
    "## Running the stimulus without inhibition\n",
    "mf_activity = fun.mf_activity_2(dict_p2_without)\n",
    "_, _, matrix_fr_without, _ = sim.simulation(dict_p2_without, mf_activity)\n",
    "\n",
    "## Running the stimulus with inhibition\n",
    "mf_activity = fun.mf_activity_2(dict_p2_with)\n",
    "_, _, matrix_fr_with, _ = sim.simulation(dict_p2_with, mf_activity)\n",
    "\n",
    "## Calculating the mean before the stimulus presentation\n",
    "mean_before_with = matrix_fr_with[:,:20].mean()\n",
    "mean_before_without = matrix_fr_without[:,:20].mean()\n",
    "\n",
    "## Joining in one matrix both with and without inhibition results\n",
    "matrix_fr = np.zeros((matrix_fr_with.shape[0], matrix_fr_with.shape[1], 2))\n",
    "\n",
    "# Dividing by their mean before the stimulus presentation, as we want ΔF/F\n",
    "matrix_fr[:, :, 0] = matrix_fr_with/mean_before_with\n",
    "matrix_fr[:, :, 1] = matrix_fr_without/mean_before_without\n"
   ]
  },
  {
   "cell_type": "code",
   "execution_count": null,
   "id": "02b62206",
   "metadata": {},
   "outputs": [],
   "source": [
    "## selecting number of GrCs that we want to plot (300 for the heatmap)\n",
    "np.random.seed(4)\n",
    "set_index = np.random.choice(3760, 300)\n",
    "num = 300\n",
    "fig, axn = plt.subplots(1, 2, figsize=(8, 5.5), sharex=True, sharey=True)\n",
    "\n",
    "cbar_ax = fig.add_axes([.93, .125, .04, .76]) #left, bottom, width, height)\n",
    "\n",
    "plt.subplots_adjust(wspace=0.2, \n",
    "                    hspace=0.4)\n",
    "\n",
    "plt.xticks(fontsize=20)\n",
    "\n",
    "for i, ax in enumerate(axn.flat):\n",
    "\n",
    "    smoothed_matrix = gaussian_filter(matrix_fr[set_index,:,i], sigma=1.0)\n",
    "    sns.heatmap(smoothed_matrix, ax=ax, cmap = 'jet',\n",
    "                cbar=i == 0,\n",
    "                vmin=0, vmax=110,\n",
    "                cbar_ax=None if i else cbar_ax)\n",
    "\n",
    "    ticksx = np.arange(0, matrix_fr.shape[1], matrix_fr.shape[1]/4)\n",
    "    ticksy = np.arange(0, num, num/6).astype(int)\n",
    "\n",
    "    ax.set_xticks([])\n",
    "    ax.set_yticks(ticksy)\n",
    "    ax.set_yticklabels(ticksy, fontsize=16)\n",
    "\n",
    "    for spine in ax.spines.values():\n",
    "        spine.set_visible(True)\n",
    "\n",
    "    for spine in ax.spines.values():\n",
    "        spine.set(visible=True, lw=.8, edgecolor=\"black\")\n",
    "\n",
    "    if i == 0:\n",
    "        ax.set_ylabel('Number of cells', fontsize = 16)\n",
    "    else:\n",
    "        ax.set_ylabel('')\n",
    "\n",
    "    ax.tick_params(axis='x', rotation=0)  \n",
    "\n",
    "    if i == 1:        \n",
    "        ins2 = ax.inset_axes([0.70,-0.08,0.29,0.01])\n",
    "        ins2.spines[['left', 'top', 'right']].set_visible(False)\n",
    "        ins2.set_yticks([])\n",
    "        ins2.set_xticks([])\n",
    "        ins2.set_xlabel(\"1 s\", fontsize = 16)\n",
    "\n",
    "\n",
    "for spine in cbar_ax.spines.values():\n",
    "    spine.set_visible(True)\n",
    "\n",
    "for spine in cbar_ax.spines.values():\n",
    "    spine.set(visible=True, lw=.8, edgecolor=\"black\")        \n",
    "\n",
    "cbar_ax.tick_params(labelsize= 16)\n",
    "cbar_ax.set_ylabel(\"ΔF/F\", fontsize = 20, rotation = 270, labelpad=30)      \n",
    "plt.show()\n",
    "fig.savefig(FIGURE_2_RESULTS_DIR + '/heatmap_pattern_2.png', bbox_inches=\"tight\", dpi = 600)"
   ]
  },
  {
   "cell_type": "markdown",
   "id": "d957a657",
   "metadata": {},
   "source": [
    "## Repetition of stimulus in different trials"
   ]
  },
  {
   "cell_type": "code",
   "execution_count": null,
   "id": "f7f81a94",
   "metadata": {},
   "outputs": [],
   "source": [
    "## Repeating the pattern for 10 trials (updating the seed of the poisson generator for every trial)\n",
    "times = 10\n",
    "\n",
    "## Running simulations\n",
    "mf_activity = fun.mf_activity_2(dict_p2_without)\n",
    "_, _, matrix_fr_without, _ = sim.simulation(dict_p2_without, mf_activity)\n",
    "\n",
    "mf_activity = fun.mf_activity_2(dict_p2_with)\n",
    "_, _, matrix_fr_with, _ = sim.simulation(dict_p2_with, mf_activity)\n",
    "\n",
    "## Calculating means before pattern presenation\n",
    "mean_before_with = matrix_fr_with[:,:20].mean()\n",
    "mean_before_without = matrix_fr_without[:,:20].mean()\n",
    "\n",
    "## Creating matrices to store average firing rates of trials\n",
    "matrix1 = np.zeros((matrix_fr_with.shape[0], matrix_fr_with.shape[1], times))\n",
    "matrix2 = np.zeros((matrix_fr_with.shape[0], matrix_fr_with.shape[1], times))\n",
    "matrix1[:,:,0] = matrix_fr_with/mean_before_with\n",
    "matrix2[:,:,0] = matrix_fr_without/mean_before_without\n",
    "\n",
    "for i in range(times-1):\n",
    "    \n",
    "    dict_p2_without = {\n",
    "        **my_dict_default,\n",
    "        \"fraction\": 3,\n",
    "        \"sigma\": 40,\n",
    "        \"pattern\": 11, \n",
    "        \"poisson_seed\": i+1,\n",
    "        \"firing_rate\": 80.0,\n",
    "    }\n",
    "\n",
    "    dict_p2_with = {\n",
    "        **my_dict_default,\n",
    "        \"fraction\": 3,\n",
    "        \"sigma\": 40,\n",
    "        \"pattern\": 11, \n",
    "        \"mf_goc_w\": 0.20,\n",
    "        \"grc_goc_w\": 0.02,\n",
    "        \"poisson_seed\": i+1,\n",
    "        \"firing_rate\": 80.0,\n",
    "    }\n",
    "\n",
    "\n",
    "    mf_activity = fun.mf_activity_2(dict_p2_without)\n",
    "    _, _, matrix_fr_without, _ = sim.simulation(dict_p2_without, mf_activity)\n",
    "\n",
    "    mf_activity = fun.mf_activity_2(dict_p2_with)\n",
    "    _, _, matrix_fr_with, _ = sim.simulation(dict_p2_with, mf_activity)\n",
    "\n",
    "    mean_before_with = matrix_fr_with[:,:20].mean()\n",
    "    mean_before_without = matrix_fr_without[:,:20].mean()\n",
    "    matrix1[:,:,i+1] = matrix_fr_with/mean_before_with\n",
    "    matrix2[:,:,i+1] = matrix_fr_without/mean_before_without"
   ]
  },
  {
   "cell_type": "markdown",
   "id": "f647cc08",
   "metadata": {},
   "source": [
    "## Example of firing rates from a granule cell on sequential pattern presentation trials with and without inhibition"
   ]
  },
  {
   "cell_type": "code",
   "execution_count": null,
   "id": "4a07a04b",
   "metadata": {},
   "outputs": [],
   "source": [
    "## Selecting one GrC to show its firing rates\n",
    "cell = 694\n",
    "m_1 = matrix1[cell,:,:].T\n",
    "m_2 = matrix2[cell,:,:].T\n",
    "m1 = gaussian_filter(m_1, sigma=0.5)\n",
    "m2 = gaussian_filter(m_2, sigma=0.5)\n",
    "fig, (ax1, ax2) = plt.subplots(nrows=1, ncols=2, figsize = (8, 4))\n",
    "x = np.arange(0, m1.shape[1], 1)\n",
    "for i in range(times):\n",
    "    ax1.plot(x, m1[i,:] - i*28.0, c = 'black')\n",
    "    ax2.plot(x, m2[i,:] - i*28.0, c = 'red')\n",
    "\n",
    "ax1.set_ylim([m2[-1,:].min() - (times-1)*32.0, m2[0,:].max() + 40])\n",
    "ax2.set_ylim([m2[-1,:].min() - (times-1)*32.0, m2[0,:].max() + 40])\n",
    "    \n",
    "ax1.axis(\"off\")\n",
    "ax2.axis(\"off\")\n",
    "\n",
    "ax1.set_title(\"Control\", color = 'black', fontsize = 14)\n",
    "ax2.set_title(\"DART\", color = 'red', fontsize = 14)\n",
    "\n",
    "ins2 = ax2.inset_axes([0.68,-0.08,0.29,0.12])\n",
    "ins2.spines[['left', 'top']].set_visible(False)\n",
    "ins2.set_yticks([])\n",
    "ins2.set_xticks([])\n",
    "ins2.set_xlabel(\"1 s\", fontsize = 14)\n",
    "\n",
    "ax1.arrow(-3.,5 , 0, -255, head_width=4, color = 'black')\n",
    "ax1.set_ylabel('Trials', fontsize = 14)\n",
    "\n",
    "ax1.arrow(16, 95, 0, -80, head_width=4, color = 'black')\n",
    "ax2.arrow(16, 95, 0, -80, head_width=4, color = 'black')\n",
    "ax1.text(15, 95, \"----------|\", fontsize = 14)\n",
    "ax2.text(15, 95, \"----------|\", fontsize = 14)\n",
    "\n",
    "\n",
    "fig.text(0.75,0.1, \"100% ΔF/F\", fontsize = 14)\n",
    "fig.text(0.37,0.1, \"Cell \" + str(cell), fontsize = 14)\n",
    "fig.text(0.12,0.40, \"Trials\", fontsize = 16, rotation = 90)\n",
    "plt.subplots_adjust(wspace=0.1)\n",
    "fig.savefig(FIGURE_2_RESULTS_DIR + '/trials_cell_' + str(cell) + '_2.png', bbox_inches=\"tight\", dpi = 200)\n"
   ]
  },
  {
   "cell_type": "markdown",
   "id": "0d454b5d",
   "metadata": {},
   "source": [
    "## Mean time course of responses during pattern presentation with and without inhibition"
   ]
  },
  {
   "cell_type": "code",
   "execution_count": null,
   "id": "0065abcd",
   "metadata": {},
   "outputs": [],
   "source": [
    "## Calculating the average firing rate of the GrC for inhibition and no inhibition\n",
    "smoothed_matrix1 = gaussian_filter(matrix1.mean(axis = 2), sigma=1.5)\n",
    "smoothed_matrix2 = gaussian_filter(matrix2.mean(axis = 2), sigma=1.5)\n",
    "response_with = sum(smoothed_matrix1)/matrix_fr_with.shape[0]\n",
    "response_without = sum(smoothed_matrix2)/matrix_fr_with.shape[0]\n",
    "\n",
    "plt.rcParams[\"figure.figsize\"] = (2.8,4)\n",
    "fig, ax = plt.subplots()\n",
    "\n",
    "\n",
    "time = np.arange(0, matrix_fr_with.shape[1], 1)\n",
    "ax.scatter(time, response_without, label = 'DART', s =20,  facecolors='none', edgecolors='r')\n",
    "ax.plot(time, response_without, c = 'red')\n",
    "ax.scatter(time, response_with, label = 'control', s = 20, facecolors='none', edgecolors='black')\n",
    "ax.plot(time, response_with, c = 'black')\n",
    "\n",
    "ax.spines[['right', 'top']].set_visible(False)\n",
    "ax.set_xticks(np.arange(0, matrix_fr_with.shape[1], matrix_fr_with.shape[1]/4))\n",
    "ax.set_xticks([0, 20, 40, 60])\n",
    "ax.set_xticklabels([-1, 0, 1, 2])\n",
    "ax.set_ylabel('Response (ΔF/F)', fontsize = 15)\n",
    "ax.set_xlabel('Time (s)', fontsize = 15)\n",
    "leg = ax.legend(fontsize = 10)\n",
    "colors = ['red', 'black']\n",
    "for color,text in zip(colors,leg.get_texts()):\n",
    "    text.set_color(color)\n",
    "    \n",
    "plt.tick_params(axis ='both', labelsize = 15)\n",
    "fig.savefig(FIGURE_2_RESULTS_DIR + '/avg_firing_rate_2.png', bbox_inches=\"tight\", dpi = 200)\n"
   ]
  },
  {
   "cell_type": "markdown",
   "id": "21bb299d",
   "metadata": {},
   "source": [
    "## Mean response amplitude for individual cells (firing rate)"
   ]
  },
  {
   "cell_type": "code",
   "execution_count": 45,
   "id": "06268ef7",
   "metadata": {},
   "outputs": [],
   "source": [
    "mean1 = smoothed_matrix1.mean()\n",
    "before = smoothed_matrix1[:, :20]\n",
    "after = smoothed_matrix1[:, 20:]\n",
    "before = before.mean(axis = 1)\n",
    "after = after.mean(axis = 1)\n",
    "mean_amp_with = (after - before)"
   ]
  },
  {
   "cell_type": "code",
   "execution_count": 46,
   "id": "3419d6b3",
   "metadata": {},
   "outputs": [],
   "source": [
    "mean2 = smoothed_matrix2.mean()\n",
    "before = smoothed_matrix2[:, :20]\n",
    "after = smoothed_matrix2[:, 20:]\n",
    "before = before.mean(axis = 1)\n",
    "after = after.mean(axis = 1)\n",
    "mean_amp_without = (after - before)"
   ]
  },
  {
   "cell_type": "code",
   "execution_count": 47,
   "id": "d1337233",
   "metadata": {},
   "outputs": [],
   "source": [
    "df_with = pd.DataFrame(mean_amp_with)\n",
    "df_without = pd.DataFrame(mean_amp_without)\n",
    "df_with['Type'] = ['Control']*mean_amp_with.shape[0]\n",
    "df_with = df_with.rename(columns={0: 'Mean amplitude'})\n",
    "df_without['Type'] = ['DART']*mean_amp_without.shape[0]\n",
    "df_without = df_without.rename(columns={0: 'Mean amplitude'})\n",
    "np.random.seed(0)\n",
    "\n",
    "x = np.random.choice(mean_amp_with.shape[0], 400)\n",
    "df_probs = pd.concat([df_with.iloc[x], df_without.iloc[x]], axis=0)\n",
    "\n",
    "df_probs2 = pd.concat([df_with, df_without], axis=0)"
   ]
  },
  {
   "cell_type": "code",
   "execution_count": null,
   "id": "ca2fb391",
   "metadata": {},
   "outputs": [],
   "source": [
    "\n",
    "# Performing the paired sample t-test \n",
    "stats.ttest_rel(df_with['Mean amplitude'], df_without['Mean amplitude']) "
   ]
  },
  {
   "cell_type": "code",
   "execution_count": null,
   "id": "24ec8a0e",
   "metadata": {
    "scrolled": false
   },
   "outputs": [],
   "source": [
    "fig, ax = plt.subplots() \n",
    "plt.rcParams[\"figure.figsize\"] = (2.8,4)\n",
    "my_pal = {\"Control\": \"black\", \"DART\": \"red\"}\n",
    "\n",
    "ax = sns.swarmplot(x=\"Type\", y=\"Mean amplitude\", data=df_probs, size = 3, palette = my_pal, alpha = 1.0, edgecolors = 'black')\n",
    "ax.spines[['right', 'top']].set_visible(False)\n",
    "ax.set_ylabel('Av. Amp. (ΔF/F)', fontsize = 15)\n",
    "\n",
    "ax.set(xlabel=None)\n",
    "df_mean = df_probs2.groupby('Type', sort=False)['Mean amplitude'].mean()\n",
    "_ = [ax.hlines(y, i-.45, i+.45, zorder=2, colors = 'black', linewidth=2) for i, y in df_mean.reset_index()['Mean amplitude'].items()]\n",
    "ax.axhline(y = 0.0, color = 'black', linestyle = '--')\n",
    "plt.tick_params(axis ='both', labelsize = 15)\n",
    "plt.text(0.3, 40, '****', fontsize = 15)\n",
    "fig.savefig(FIGURE_2_RESULTS_DIR + '/mean_response_amplitude_2.png', bbox_inches=\"tight\", dpi = 200)\n"
   ]
  },
  {
   "cell_type": "code",
   "execution_count": null,
   "id": "0ed37dce",
   "metadata": {},
   "outputs": [],
   "source": [
    "fig, ax = plt.subplots()\n",
    "plt.rcParams[\"figure.figsize\"] = (2.8,4)\n",
    "my_pal = {\"Control\": \"black\", \"DART\": \"red\"}\n",
    "\n",
    "ax = sns.violinplot(x=\"Type\", y=\"Mean amplitude\", data=df_probs2, palette = my_pal, alpha = 1.0)\n",
    "ax.spines[['right', 'top']].set_visible(False)\n",
    "ax.set_ylabel('Av. Amp. (ΔF/F)', fontsize = 15)\n",
    "\n",
    "ax.set(xlabel=None)\n",
    "df_mean = df_probs2.groupby('Type', sort=False)['Mean amplitude'].mean()\n",
    "_ = [ax.hlines(y, i-.45, i+.45, zorder=2, colors = 'black', linewidth=2) for i, y in df_mean.reset_index()['Mean amplitude'].items()]\n",
    "ax.axhline(y = 0.0, color = 'black', linestyle = '--')\n",
    "plt.tick_params(axis ='both', labelsize = 15)\n",
    "plt.text(0.3, 65, '****', fontsize = 15)\n",
    "fig.savefig(FIGURE_2_RESULTS_DIR + '/mean_response_amplitude_violin_2.png', bbox_inches=\"tight\", dpi = 200)\n",
    "\n"
   ]
  },
  {
   "cell_type": "code",
   "execution_count": null,
   "id": "3246daf4",
   "metadata": {},
   "outputs": [],
   "source": [
    "df_mean"
   ]
  },
  {
   "cell_type": "code",
   "execution_count": null,
   "id": "f82f4ca8",
   "metadata": {},
   "outputs": [],
   "source": [
    "df_sem = df_probs2.groupby('Type', sort=False)['Mean amplitude'].sem()\n",
    "df_sem"
   ]
  },
  {
   "cell_type": "markdown",
   "id": "d84f78ef",
   "metadata": {},
   "source": [
    "## Mean spike probability for each cell "
   ]
  },
  {
   "cell_type": "code",
   "execution_count": 53,
   "id": "af16f4e7",
   "metadata": {},
   "outputs": [],
   "source": [
    "prob_with = np.sum(smoothed_matrix1, axis = 1)/np.sum(smoothed_matrix1, axis = 1).max()\n",
    "prob_without = np.sum(smoothed_matrix2, axis = 1)/np.sum(smoothed_matrix2, axis = 1).max()\n",
    "df_with = pd.DataFrame(prob_with)\n",
    "df_without = pd.DataFrame(prob_without)\n",
    "df_with['Type'] = ['Control']*prob_with.shape[0]\n",
    "df_with = df_with.rename(columns={0: 'Single Trial Probability'})\n",
    "df_without['Type'] = ['DART']*prob_without.shape[0]\n",
    "df_without = df_without.rename(columns={0: 'Single Trial Probability'})\n",
    "x = np.random.choice(prob_with.shape[0], 400)\n",
    "df_probs = pd.concat([df_with.iloc[x], df_without.iloc[x]], axis=0)\n",
    "df_probs2 = pd.concat([df_with, df_without], axis=0)"
   ]
  },
  {
   "cell_type": "code",
   "execution_count": null,
   "id": "035dd8f6",
   "metadata": {},
   "outputs": [],
   "source": [
    "# Performing the paired sample t-test \n",
    "stats.ttest_rel(df_with['Single Trial Probability'], df_without['Single Trial Probability']) "
   ]
  },
  {
   "cell_type": "code",
   "execution_count": null,
   "id": "7f9bb00a",
   "metadata": {
    "scrolled": false
   },
   "outputs": [],
   "source": [
    "fig, ax = plt.subplots()\n",
    "plt.rcParams[\"figure.figsize\"] = (2.8,4)\n",
    "my_pal = {\"Control\": \"black\", \"DART\": \"red\"}\n",
    "\n",
    "ax = sns.swarmplot(x=\"Type\", y=\"Single Trial Probability\", data=df_probs, size = 3, palette = my_pal, alpha = 1.0, edgecolors = 'black')\n",
    "ax.spines[['right', 'top']].set_visible(False)\n",
    "ax.set(xlabel=None)\n",
    "ax.set_ylabel('Single Trial Pr.', fontsize = 15)\n",
    "ax.set_ylim([0.0, 1.0])\n",
    "df_mean = df_probs2.groupby('Type', sort=False)['Single Trial Probability'].mean()\n",
    "_ = [ax.hlines(y, i-.45, i+.45, zorder=2, colors = 'black', linewidth=2) for i, y in df_mean.reset_index()['Single Trial Probability'].items()]\n",
    "plt.tick_params(axis ='both', labelsize = 15)\n",
    "plt.text(0.3, 1.0, '****', fontsize = 15)\n",
    "fig.savefig(FIGURE_2_RESULTS_DIR + '/spike_probability_2.png', bbox_inches=\"tight\", dpi = 200)\n",
    "\n"
   ]
  },
  {
   "cell_type": "code",
   "execution_count": null,
   "id": "39060559",
   "metadata": {},
   "outputs": [],
   "source": [
    "fig, ax = plt.subplots()\n",
    "plt.rcParams[\"figure.figsize\"] = (2.8,4)\n",
    "my_pal = {\"Control\": \"black\", \"DART\": \"red\"}\n",
    "\n",
    "ax = sns.violinplot(x=\"Type\", y='Single Trial Probability', data=df_probs2, palette = my_pal, alpha = 1.0, cut = 0)\n",
    "ax.spines[['right', 'top']].set_visible(False)\n",
    "ax.set(xlabel=None)\n",
    "ax.set_ylabel('Single Trial Pr.', fontsize = 15)\n",
    "ax.set_ylim([0.0, 1.0])\n",
    "df_mean = df_probs2.groupby('Type', sort=False)['Single Trial Probability'].mean()\n",
    "_ = [ax.hlines(y, i-.45, i+.45, zorder=2, colors = 'black', linewidth=2) for i, y in df_mean.reset_index()['Single Trial Probability'].items()]\n",
    "plt.tick_params(axis ='both', labelsize = 15)\n",
    "plt.text(0.3, 1.0, '****', fontsize = 15)\n",
    "fig.savefig(FIGURE_2_RESULTS_DIR + '/spike_probability_violin_2.png', bbox_inches=\"tight\", dpi = 200)\n",
    "\n"
   ]
  },
  {
   "cell_type": "code",
   "execution_count": null,
   "id": "5f9f3124",
   "metadata": {},
   "outputs": [],
   "source": [
    "df_mean"
   ]
  },
  {
   "cell_type": "code",
   "execution_count": null,
   "id": "06c4b09d",
   "metadata": {},
   "outputs": [],
   "source": [
    "df_sem = df_probs2.groupby('Type', sort=False)[\"Single Trial Probability\"].sem()\n",
    "df_sem"
   ]
  },
  {
   "cell_type": "markdown",
   "id": "7d97c9c5",
   "metadata": {},
   "source": [
    "## Single trial amplitude (firing rate) "
   ]
  },
  {
   "cell_type": "code",
   "execution_count": 59,
   "id": "9ade5214",
   "metadata": {},
   "outputs": [],
   "source": [
    "array1 = (matrix1[:, 20:30, 0].mean(axis = 1))\n",
    "array2 = (matrix2[:, 20:30, 0].mean(axis = 1))\n",
    "significant_1 = np.where(array1 > 0)[0]\n",
    "significant_2 = np.where(array2 > 0)[0]"
   ]
  },
  {
   "cell_type": "code",
   "execution_count": null,
   "id": "daa07206",
   "metadata": {},
   "outputs": [],
   "source": [
    "significant_1.shape"
   ]
  },
  {
   "cell_type": "code",
   "execution_count": 61,
   "id": "405dcf1b",
   "metadata": {},
   "outputs": [],
   "source": [
    "mean1 = smoothed_matrix1.mean()\n",
    "before = smoothed_matrix1[significant_1, :20]\n",
    "after = smoothed_matrix1[significant_1, 20:]\n",
    "before = before.mean(axis = 1)\n",
    "after = after.mean(axis = 1)\n",
    "mean_amp_with = (after - before)"
   ]
  },
  {
   "cell_type": "code",
   "execution_count": 62,
   "id": "f4b16921",
   "metadata": {},
   "outputs": [],
   "source": [
    "mean2 = smoothed_matrix2.mean()\n",
    "before = smoothed_matrix2[significant_1, :20]\n",
    "after = smoothed_matrix2[significant_1, 20:]\n",
    "before = before.mean(axis = 1)\n",
    "after = after.mean(axis = 1)\n",
    "mean_amp_without = (after - before)"
   ]
  },
  {
   "cell_type": "code",
   "execution_count": 63,
   "id": "f1a71fe8",
   "metadata": {},
   "outputs": [],
   "source": [
    "df_with = pd.DataFrame(mean_amp_with)\n",
    "df_without = pd.DataFrame(mean_amp_without)\n",
    "df_with['Type'] = ['Control']*mean_amp_with.shape[0]\n",
    "df_with = df_with.rename(columns={0: 'Single Trial Amplitude'})\n",
    "df_without['Type'] = ['DART']*mean_amp_without.shape[0]\n",
    "df_without = df_without.rename(columns={0: 'Single Trial Amplitude'})\n",
    "np.random.seed(0)\n",
    "\n",
    "x = np.random.choice(mean_amp_with.shape[0], 400)\n",
    "df_probs = pd.concat([df_with.iloc[x], df_without.iloc[x]], axis=0)\n",
    "\n",
    "df_probs2 = pd.concat([df_with, df_without], axis=0)"
   ]
  },
  {
   "cell_type": "code",
   "execution_count": null,
   "id": "1f4dcde7",
   "metadata": {},
   "outputs": [],
   "source": [
    "# Performing the paired sample t-test \n",
    "stats.ttest_rel(df_with['Single Trial Amplitude'], df_without['Single Trial Amplitude']) "
   ]
  },
  {
   "cell_type": "code",
   "execution_count": null,
   "id": "9f02a513",
   "metadata": {},
   "outputs": [],
   "source": [
    "fig, ax = plt.subplots()\n",
    "plt.rcParams[\"figure.figsize\"] = (2.8,4)\n",
    "my_pal = {\"Control\": \"black\", \"DART\": \"red\"}\n",
    "\n",
    "ax = sns.swarmplot(x=\"Type\", y=\"Single Trial Amplitude\", data=df_probs, size = 3, palette = my_pal, alpha = 1.0, edgecolors = 'black')\n",
    "ax.spines[['right', 'top']].set_visible(False)\n",
    "ax.set(xlabel=None)\n",
    "ax.set_ylabel('Single Trial Amp. (ΔF/F)', fontsize = 15)\n",
    "ax.set_ylim(bottom=0.0, top=None)\n",
    "df_mean = df_probs2.groupby('Type', sort=False)['Single Trial Amplitude'].mean()\n",
    "_ = [ax.hlines(y, i-.45, i+.45, zorder=2, colors = 'black', linewidth=2) for i, y in df_mean.reset_index()['Single Trial Amplitude'].items()]\n",
    "\n",
    "plt.tick_params(axis ='both', labelsize = 15)\n",
    "plt.text(0.3,59, '****', fontsize = 15)\n",
    "fig.savefig(FIGURE_2_RESULTS_DIR + '/single_trial_amplitude_2.png', bbox_inches=\"tight\", dpi = 200)\n",
    "\n"
   ]
  },
  {
   "cell_type": "code",
   "execution_count": null,
   "id": "abc04af9",
   "metadata": {},
   "outputs": [],
   "source": [
    "fig, ax = plt.subplots()\n",
    "plt.rcParams[\"figure.figsize\"] = (2.8,4)\n",
    "my_pal = {\"Control\": \"black\", \"DART\": \"red\"}\n",
    "\n",
    "ax = sns.violinplot(x=\"Type\", y=\"Single Trial Amplitude\", data=df_probs2, palette = my_pal, alpha = 1.0, cut = 0)\n",
    "ax.spines[['right', 'top']].set_visible(False)\n",
    "ax.set(xlabel=None)\n",
    "ax.set_ylabel('Single Trial Amp. (ΔF/F)', fontsize = 15)\n",
    "\n",
    "df_mean = df_probs2.groupby('Type', sort=False)['Single Trial Amplitude'].mean()\n",
    "_ = [ax.hlines(y, i-.45, i+.45, zorder=2, colors = 'black', linewidth=2) for i, y in df_mean.reset_index()['Single Trial Amplitude'].items()]\n",
    "\n",
    "plt.text(0.3, 65, '****', fontsize = 15)\n",
    "plt.tick_params(axis ='both', labelsize = 15)\n",
    "fig.savefig(FIGURE_2_RESULTS_DIR + '/single_trial_amplitude_violin_2.png', bbox_inches=\"tight\", dpi = 200)\n"
   ]
  },
  {
   "cell_type": "code",
   "execution_count": null,
   "id": "4b39e07d",
   "metadata": {},
   "outputs": [],
   "source": [
    "df_mean"
   ]
  },
  {
   "cell_type": "code",
   "execution_count": null,
   "id": "f60c1a79",
   "metadata": {},
   "outputs": [],
   "source": [
    "df_sem = df_probs2.groupby('Type', sort=False)['Single Trial Amplitude'].sem()\n",
    "df_sem"
   ]
  }
 ],
 "metadata": {
  "kernelspec": {
   "display_name": "myenv",
   "language": "python",
   "name": "myenv"
  },
  "language_info": {
   "codemirror_mode": {
    "name": "ipython",
    "version": 3
   },
   "file_extension": ".py",
   "mimetype": "text/x-python",
   "name": "python",
   "nbconvert_exporter": "python",
   "pygments_lexer": "ipython3",
   "version": "3.8.10"
  }
 },
 "nbformat": 4,
 "nbformat_minor": 5
}
