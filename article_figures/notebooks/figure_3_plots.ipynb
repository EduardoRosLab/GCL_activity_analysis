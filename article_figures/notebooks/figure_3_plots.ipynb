{
 "cells": [
  {
   "cell_type": "code",
   "execution_count": 1,
   "id": "9418c1ce",
   "metadata": {},
   "outputs": [],
   "source": [
    "# Importing libraries\n",
    "from pyedlut import simulation_wrapper as pyedlut\n",
    "import matplotlib.pyplot as plt\n",
    "import numpy as np\n",
    "import random\n",
    "import pandas as pd\n",
    "import os\n",
    "from scipy.stats import norm\n",
    "import scipy.stats as stats \n",
    "from scipy.ndimage import gaussian_filter\n",
    "import seaborn as sns\n",
    "from scipy.stats import f_oneway\n",
    "\n",
    "## Importing functions\n",
    "import sys\n",
    "sys.path.insert(1, '../data')\n",
    "import figure_3_functions as fun\n",
    "import simulation_function as sim\n",
    "import plot_spikes_function as scatter"
   ]
  },
  {
   "cell_type": "code",
   "execution_count": 2,
   "id": "30e62142",
   "metadata": {},
   "outputs": [],
   "source": [
    "## Creating plots directory\n",
    "RESULTS_DIR = \"../results/figures_plots\"\n",
    "FIGURE_3_RESULTS_DIR = os.path.join(RESULTS_DIR, 'figure_3')\n",
    "os.makedirs(FIGURE_3_RESULTS_DIR, exist_ok = True)"
   ]
  },
  {
   "cell_type": "code",
   "execution_count": 3,
   "id": "2cf374b9",
   "metadata": {
    "scrolled": false
   },
   "outputs": [],
   "source": [
    "## Creating default parameters dictionary\n",
    "\n",
    "my_dict_default = {\"fraction\":6, \n",
    "           \"pattern\": 1,\n",
    "           \"sigma\": 40, \n",
    "            \"seed\": 0,\n",
    "            \"poisson_seed\": 0,\n",
    "            \"seed_noise\": 0, \n",
    "            \"noise\": 0.0, \n",
    "            \"mf_goc_w\": 0.0,\n",
    "            \"grc_goc_w\": 0.0,\n",
    "            \"num_patterns\": 7,\n",
    "            \"duration_pattern\": 0.5,\n",
    "            \"interval\": 0.5,\n",
    "            \"firing_rate\": 50.0, \n",
    "            \"step\": 10\n",
    "}"
   ]
  },
  {
   "cell_type": "markdown",
   "id": "7853c5d0",
   "metadata": {},
   "source": [
    "# OVERVIEW"
   ]
  },
  {
   "cell_type": "code",
   "execution_count": 4,
   "id": "0c30e824",
   "metadata": {},
   "outputs": [],
   "source": [
    "## Creating dictionary to initially visualize the spikes\n",
    "dict_fig_overview = {\n",
    "    **my_dict_default,\n",
    "    \"fraction\": 6,\n",
    "    \"num_patterns\": 30, \n",
    "    \"mf_goc_w\": 0.00,\n",
    "    \"grc_goc_w\": 0.00,\n",
    "    \"duration_pattern\": 0.08, \n",
    "    \"interval\": 0.07\n",
    "}"
   ]
  },
  {
   "cell_type": "code",
   "execution_count": null,
   "id": "0a05e83b",
   "metadata": {},
   "outputs": [],
   "source": [
    "## Retrieving activity\n",
    "mf_activity = fun.mf_activity_overview(dict_fig_overview)\n",
    "## Running simulation\n",
    "oi, ot, _, _ = sim.simulation(dict_fig_overview, mf_activity)\n",
    "\n",
    "## Plotting spikes\n",
    "fig = scatter.plot_spikes(oi, ot, dict_fig_overview, 0.0, 10*dict_fig_overview[\"duration_pattern\"])"
   ]
  },
  {
   "cell_type": "markdown",
   "id": "1a8d8a8c",
   "metadata": {},
   "source": [
    "# STIMULI PRESENTATION"
   ]
  },
  {
   "cell_type": "code",
   "execution_count": 6,
   "id": "d3a003b2",
   "metadata": {},
   "outputs": [],
   "source": [
    "# Choosing patterns with similar MF active fraction\n",
    "pattern_1 = 13\n",
    "pattern_2 = 3\n",
    "pattern_3 = 20"
   ]
  },
  {
   "cell_type": "code",
   "execution_count": 7,
   "id": "a51c9e07",
   "metadata": {},
   "outputs": [],
   "source": [
    "## Creating dirtionaries for each pattern without inhibition\n",
    "\n",
    "dict_p1_without = {\n",
    "    **my_dict_default,\n",
    "    \"pattern\": 13, \n",
    "}\n",
    "\n",
    "dict_p2_without = {\n",
    "    **my_dict_default,\n",
    "    \"pattern\": 3, \n",
    "}\n",
    "\n",
    "dict_p3_without = {\n",
    "    **my_dict_default,\n",
    "    \"pattern\": 20, \n",
    "}\n",
    "\n",
    "## Creating dirtionaries for each pattern with inhibition\n",
    "dict_p1_with = {\n",
    "    **my_dict_default,\n",
    "    \"pattern\": 13,\n",
    "    \"mf_goc_w\": 0.05, \n",
    "    \"grc_goc_w\": 0.02\n",
    "}\n",
    "dict_p2_with = {\n",
    "    **my_dict_default,\n",
    "    \"pattern\": 3, \n",
    "    \"mf_goc_w\": 0.05, \n",
    "    \"grc_goc_w\": 0.02\n",
    "}\n",
    "dict_p3_with = {\n",
    "    **my_dict_default,\n",
    "    \"pattern\": 20, \n",
    "    \"mf_goc_w\": 0.05, \n",
    "    \"grc_goc_w\": 0.02\n",
    "}"
   ]
  },
  {
   "cell_type": "code",
   "execution_count": null,
   "id": "93f6efa2",
   "metadata": {},
   "outputs": [],
   "source": [
    "## Running the simulations and retrieving GrCs firing rates matrices\n",
    "\n",
    "mf_activity = fun.mf_activity(dict_p1_without)\n",
    "_, _, matrix_3, _ = sim.simulation(dict_p1_without, mf_activity)\n",
    "\n",
    "mf_activity = fun.mf_activity(dict_p1_with)\n",
    "_, _, matrix_3_inh, _ = sim.simulation(dict_p1_with, mf_activity)\n",
    "\n",
    "mf_activity = fun.mf_activity(dict_p2_without)\n",
    "_, _, matrix_2, _ = sim.simulation(dict_p2_without, mf_activity)\n",
    "\n",
    "mf_activity = fun.mf_activity(dict_p2_with)\n",
    "_, _, matrix_2_inh, _ = sim.simulation(dict_p2_with, mf_activity)\n",
    "\n",
    "mf_activity = fun.mf_activity(dict_p3_without)\n",
    "_, _, matrix_1, _ = sim.simulation(dict_p3_without, mf_activity)\n",
    "\n",
    "mf_activity = fun.mf_activity(dict_p3_with)\n",
    "_, _, matrix_1_inh, _ = sim.simulation(dict_p3_with, mf_activity)"
   ]
  },
  {
   "cell_type": "code",
   "execution_count": 9,
   "id": "01697dda",
   "metadata": {},
   "outputs": [],
   "source": [
    "## Classifying cells in three groups depending on their preference for pattern 1, 2, or 3\n",
    "sum1 = np.sum(matrix_1[:,20:], axis = 1)\n",
    "sum2 = np.sum(matrix_2[:,20:], axis = 1)\n",
    "sum3 = np.sum(matrix_3[:,20:], axis = 1)\n",
    "pref1 = []\n",
    "pref2 = []\n",
    "pref3 = []\n",
    "\n",
    "for i in range(matrix_1.shape[0]):\n",
    "    if sum1[i] > sum2[i]:\n",
    "        if sum1[i] > sum3[i]:\n",
    "            pref1.append(i)\n",
    "    elif sum2[i] > sum1[i]:\n",
    "        if sum2[i] > sum3[i]:\n",
    "            pref2.append(i)\n",
    "        else:\n",
    "            pref3.append(i)"
   ]
  },
  {
   "cell_type": "code",
   "execution_count": null,
   "id": "718cda33",
   "metadata": {
    "scrolled": true
   },
   "outputs": [],
   "source": [
    "# Choosing a cell to see its activity\n",
    "num = 939\n",
    "fig, (ax1, ax2) = plt.subplots(nrows = 1, ncols = 2)\n",
    "plt.rcParams['figure.figsize'] = (8,3.5)\n",
    "plt.rcParams[\"savefig.facecolor\"] = \"white\"\n",
    "p1 = matrix_1[num,:]\n",
    "p2 = matrix_2[num,:]\n",
    "p3 = matrix_3[num,:]\n",
    "\n",
    "p1_s = gaussian_filter(p1, sigma=1.0)\n",
    "p2_s = gaussian_filter(p2, sigma=1.0)\n",
    "p3_s = gaussian_filter(p3, sigma=1.0)\n",
    "\n",
    "ax2.plot(np.arange(p1_s.shape[0]), p1_s, c = 'dodgerblue', label = 'pattern 1')\n",
    "ax2.plot(np.arange(p2_s.shape[0]), p2_s, c = 'darkslateblue', label = 'pattern 2')\n",
    "ax2.plot(np.arange(p3_s.shape[0]), p3_s, c = 'purple', label = 'pattern 3')\n",
    "\n",
    "p1 = matrix_1_inh[num,:]\n",
    "p2 = matrix_2_inh[num,:]\n",
    "p3 = matrix_3_inh[num,:]\n",
    "\n",
    "p1_s_inh = gaussian_filter(p1, sigma=1.0)\n",
    "p2_s_inh = gaussian_filter(p2, sigma=1.0)\n",
    "p3_s_inh = gaussian_filter(p3, sigma=1.0)\n",
    "\n",
    "ax1.plot(np.arange(p1_s_inh.shape[0]), p1_s_inh, c = 'dodgerblue', label = 'Pattern 1')\n",
    "ax1.plot(np.arange(p2_s_inh.shape[0]), p2_s_inh, c = 'darkslateblue', label = 'Pattern 2')\n",
    "ax1.plot(np.arange(p3_s_inh.shape[0]), p3_s_inh, c = 'purple', label = 'Pattern 3')\n",
    "\n",
    "ax1.set_ylim([-1.0, p1_s.max()])\n",
    "\n",
    "ax1.axis(\"off\")\n",
    "ax2.axis(\"off\")\n",
    "\n",
    "ax1.set_title(\"Control\", color = 'black', fontsize = 15)\n",
    "ax2.set_title(\"DART\", color = 'red', fontsize = 15)\n",
    "\n",
    "ax1.legend(frameon=False, fontsize = 15)\n",
    "\n",
    "ins2 = ax2.inset_axes([0.68,-0.25,0.28,0.14])\n",
    "ins2.spines[['left', 'top']].set_visible(False)\n",
    "ins2.set_yticks([])\n",
    "ins2.set_xticks([])\n",
    "ins2.set_xlabel(\"1 s\", fontsize = 15)\n",
    "\n",
    "fig.savefig(FIGURE_3_RESULTS_DIR + '/3_patterns.png', bbox_inches=\"tight\", dpi = 200)"
   ]
  },
  {
   "cell_type": "code",
   "execution_count": 11,
   "id": "20b46d48",
   "metadata": {},
   "outputs": [],
   "source": [
    "## Classifying cells in three groups depending on their preference for pattern 1, 2, or 3\n",
    "## Now calculating \"ΔF/F\" with inhibition and without\n",
    "\n",
    "mean_before = matrix_1[:,:20].mean()\n",
    "matrix_1 = matrix_1/mean_before\n",
    "mean_before = matrix_2[:,:20].mean()\n",
    "matrix_2 = matrix_2/mean_before\n",
    "mean_before = matrix_3[:,:20].mean()\n",
    "matrix_3 = matrix_3/mean_before\n",
    "\n",
    "\n",
    "mean_before = matrix_1_inh[:,:20].mean()\n",
    "matrix_1_inh = matrix_1_inh/mean_before\n",
    "mean_before = matrix_2_inh[:,:20].mean()\n",
    "matrix_2_inh = matrix_2_inh/mean_before\n",
    "mean_before = matrix_3_inh[:,:20].mean()\n",
    "matrix_3_inh = matrix_3_inh/mean_before"
   ]
  },
  {
   "cell_type": "code",
   "execution_count": 12,
   "id": "0db02b6f",
   "metadata": {},
   "outputs": [],
   "source": [
    "sum1 = np.sum(matrix_1[:,20:], axis = 1)\n",
    "sum2 = np.sum(matrix_2[:,20:], axis = 1)\n",
    "sum3 = np.sum(matrix_3[:,20:], axis = 1)\n",
    "pref1 = []\n",
    "pref2 = []\n",
    "pref3 = []\n",
    "\n",
    "for i in range(matrix_1.shape[0]):\n",
    "    if sum1[i] > sum2[i]:\n",
    "        if sum1[i] > sum3[i]:\n",
    "            pref1.append(i)\n",
    "    elif sum2[i] > sum1[i]:\n",
    "        if sum2[i] > sum3[i]:\n",
    "            pref2.append(i)\n",
    "        else:\n",
    "            pref3.append(i)\n"
   ]
  },
  {
   "cell_type": "code",
   "execution_count": 13,
   "id": "cd112987",
   "metadata": {},
   "outputs": [],
   "source": [
    "sum1 = np.sum(matrix_1_inh[:,20:], axis = 1)\n",
    "sum2 = np.sum(matrix_2_inh[:,20:], axis = 1)\n",
    "sum3 = np.sum(matrix_3_inh[:,20:], axis = 1)\n",
    "pref1_inh = []\n",
    "pref2_inh = []\n",
    "pref3_inh = []\n",
    "\n",
    "for i in range(matrix_1_inh.shape[0]):\n",
    "    if sum1[i] > sum2[i]:\n",
    "        if sum1[i] > sum3[i]:\n",
    "            pref1_inh.append(i)\n",
    "    elif sum2[i] > sum1[i]:\n",
    "        if sum2[i] > sum3[i]:\n",
    "            pref2_inh.append(i)\n",
    "        else:\n",
    "            pref3_inh.append(i)"
   ]
  },
  {
   "cell_type": "code",
   "execution_count": 14,
   "id": "51be9797",
   "metadata": {},
   "outputs": [],
   "source": [
    "## Number of cells in each group"
   ]
  },
  {
   "cell_type": "code",
   "execution_count": null,
   "id": "d1abf6a3",
   "metadata": {},
   "outputs": [],
   "source": [
    "print(len(pref1), len(pref2), len(pref3))"
   ]
  },
  {
   "cell_type": "code",
   "execution_count": null,
   "id": "9a0734b0",
   "metadata": {},
   "outputs": [],
   "source": [
    "print(len(pref1_inh), len(pref2_inh), len(pref3_inh))"
   ]
  },
  {
   "cell_type": "code",
   "execution_count": 17,
   "id": "ad0ec4df",
   "metadata": {},
   "outputs": [],
   "source": [
    "# Dataframes for GrCs that prefer pattern 1 with and without inhibition\n",
    "# Selecting only a small sample for the swarmplots\n",
    "pref1_total = pref1\n",
    "pref1_total_inh = pref1_inh\n",
    "pref1 = random.choices(pref1, k=300)\n",
    "pref1_inh = random.choices(pref1_inh, k=300)\n",
    "avg1 = np.sum(matrix_1[pref1,20:], axis = 1)/matrix_1[pref1,20:].shape[1]\n",
    "avg2 = np.sum(matrix_2[pref1,20:], axis = 1)/matrix_2[pref1,20:].shape[1]\n",
    "avg3 = np.sum(matrix_3[pref1,20:], axis = 1)/matrix_3[pref1,20:].shape[1] \n",
    "\n",
    "\n",
    "df_1 = pd.DataFrame(avg1)\n",
    "df_1['Type'] = ['P1']*avg1.shape[0]\n",
    "df_1 = df_1.rename(columns={0: 'Average Firing Rate'})\n",
    "df = pd.DataFrame(avg2)\n",
    "df['Type'] = ['P2']*avg2.shape[0]\n",
    "df = df.rename(columns={0: 'Average Firing Rate'})\n",
    "df_1 = pd.concat([df_1, df])\n",
    "df = pd.DataFrame(avg3)\n",
    "df['Type'] = ['P3']*avg3.shape[0]\n",
    "df = df.rename(columns={0: 'Average Firing Rate'})\n",
    "df_1 = pd.concat([df_1, df])\n",
    "\n",
    "avg1 = np.sum(matrix_1_inh[pref1_inh,20:], axis = 1)/matrix_1_inh[pref1_inh,20:].shape[1]\n",
    "avg2 = np.sum(matrix_2_inh[pref1_inh,20:], axis = 1)/matrix_2_inh[pref1_inh,20:].shape[1]\n",
    "avg3 = np.sum(matrix_3_inh[pref1_inh,20:], axis = 1)/matrix_3_inh[pref1_inh,20:].shape[1] \n",
    "df_1_inh = pd.DataFrame(avg1)\n",
    "df_1_inh['Type'] = ['P1']*avg1.shape[0]\n",
    "df_1_inh = df_1_inh.rename(columns={0: 'Average Firing Rate'})\n",
    "df = pd.DataFrame(avg2)\n",
    "df['Type'] = ['P2']*avg2.shape[0]\n",
    "df = df.rename(columns={0: 'Average Firing Rate'})\n",
    "df_1_inh = pd.concat([df_1_inh, df])\n",
    "df = pd.DataFrame(avg3)\n",
    "df['Type'] = ['P3']*avg3.shape[0]\n",
    "df = df.rename(columns={0: 'Average Firing Rate'})\n",
    "df_1_inh = pd.concat([df_1_inh, df])"
   ]
  },
  {
   "cell_type": "code",
   "execution_count": null,
   "id": "60fae544",
   "metadata": {},
   "outputs": [],
   "source": [
    "\n",
    "plt.rcParams[\"figure.figsize\"] = (9,5.5)\n",
    "fig, (ax1, ax2) = plt.subplots(nrows = 1, ncols = 2)\n",
    "fig.suptitle(\"Pattern 1 pref\", fontsize = 20, y = 1.05)\n",
    "\n",
    "ax1 = sns.swarmplot(x=\"Type\", y=\"Average Firing Rate\", data=df_1_inh, size = 5, color = 'dodgerblue', alpha = 1.0, ax=ax1)\n",
    "ax1.spines[['right', 'top']].set_visible(False)\n",
    "ax1.set_ylabel(\"Response (ΔF/F)\", fontsize = 17)\n",
    "ax1.set_title(\"Control\", fontsize = 16, pad = 35)\n",
    "df_mean_inh1 = df_1_inh.groupby('Type', sort=False)[\"Average Firing Rate\"].mean()\n",
    "#_ = [ax1.hlines(y, i-.45, i+.45, zorder=2, colors = 'black', linewidth=3) for i, y in df_mean_inh1.reset_index()[\"Average Firing Rate\"].items()]\n",
    "ax1.tick_params('both', labelsize = 15)\n",
    "ax2.tick_params('both', labelsize = 15)\n",
    "ax2 = sns.swarmplot(x=\"Type\", y=\"Average Firing Rate\", data=df_1, size = 5, color = 'dodgerblue', alpha = 1.0, ax=ax2)\n",
    "ax2.spines[['right', 'top']].set_visible(False)\n",
    "ax2.set_xlabel('Type', fontsize = 17)\n",
    "ax2.set(ylabel=None)\n",
    "ax2.set(xlabel=None)\n",
    "ax1.set(xlabel=None)\n",
    "ax2.set_title(\"DART\", fontsize = 16, color = 'red', pad = 35)\n",
    "df_mean1 = df_1.groupby('Type', sort=False)[\"Average Firing Rate\"].mean()\n",
    "\n",
    "y_max = round(ax1.get_ylim()[1])\n",
    "ax1.text(0.25, y_max - 3, '****', fontsize = 15)\n",
    "ax1.text(1.55, y_max - 3, '*', fontsize = 15)\n",
    "ax1.text(-0.4, y_max + 2, '-------------- **** --------------', fontsize = 15)\n",
    "\n",
    "y_max = round(ax2.get_ylim()[1])\n",
    "ax2.text(0.25, y_max - 3, '****', fontsize = 15)\n",
    "ax2.text(1.55, y_max - 3, '****', fontsize = 15)\n",
    "ax2.text(-0.4, y_max + 2, '-------------- **** --------------', fontsize = 15)\n",
    "\n",
    "_ = [ax1.hlines(y, i-.45, i+.45, zorder = 99, colors = 'black', linewidth=3) for i, y in df_mean_inh1.reset_index()[\"Average Firing Rate\"].items()]\n",
    "_ = [ax2.hlines(y, i-.45, i+.45, zorder = 99, colors = 'black', linewidth=3) for i, y in df_mean1.reset_index()[\"Average Firing Rate\"].items()]\n",
    "\n",
    "fig.savefig(FIGURE_3_RESULTS_DIR + '/pattern1_pref.png', bbox_inches=\"tight\", dpi = 200)\n"
   ]
  },
  {
   "cell_type": "code",
   "execution_count": 19,
   "id": "15f119b7",
   "metadata": {},
   "outputs": [],
   "source": [
    "# Dataframes for GrCs that prefer pattern 2 with and without inhibition\n",
    "# Selecting only a small sample for the swarmplots\n",
    "\n",
    "pref2_total = pref2\n",
    "pref2_total_inh = pref2_inh\n",
    "\n",
    "pref2 = random.choices(pref2, k=300)\n",
    "pref2_inh = random.choices(pref2_inh, k=300)\n",
    "avg1 = np.sum(matrix_1[pref2,20:], axis = 1)/matrix_1[pref2,20:].shape[1]\n",
    "avg2 = np.sum(matrix_2[pref2,20:], axis = 1)/matrix_2[pref2,20:].shape[1]\n",
    "avg3 = np.sum(matrix_3[pref2,20:], axis = 1)/matrix_3[pref2,20:].shape[1] \n",
    "df_2 = pd.DataFrame(avg1)\n",
    "df_2['Type'] = ['P1']*avg1.shape[0]\n",
    "df_2 = df_2.rename(columns={0: 'Average Firing Rate'})\n",
    "df = pd.DataFrame(avg2)\n",
    "df['Type'] = ['P2']*avg2.shape[0]\n",
    "df = df.rename(columns={0: 'Average Firing Rate'})\n",
    "df_2 = pd.concat([df_2, df])\n",
    "df = pd.DataFrame(avg3)\n",
    "df['Type'] = ['P3']*avg3.shape[0]\n",
    "df = df.rename(columns={0: 'Average Firing Rate'})\n",
    "df_2 = pd.concat([df_2, df])\n",
    "avg1 = np.sum(matrix_1_inh[pref2_inh,20:], axis = 1)/matrix_1_inh[pref2_inh,20:].shape[1]\n",
    "avg2 = np.sum(matrix_2_inh[pref2_inh,20:], axis = 1)/matrix_2_inh[pref2_inh,20:].shape[1]\n",
    "avg3 = np.sum(matrix_3_inh[pref2_inh,20:], axis = 1)/matrix_3_inh[pref2_inh,20:].shape[1]\n",
    "df_2_inh = pd.DataFrame(avg1)\n",
    "df_2_inh['Type'] = ['P1']*avg1.shape[0]\n",
    "df_2_inh = df_2_inh.rename(columns={0: 'Average Firing Rate'})\n",
    "df = pd.DataFrame(avg2)\n",
    "df['Type'] = ['P2']*avg2.shape[0]\n",
    "df = df.rename(columns={0: 'Average Firing Rate'})\n",
    "df_2_inh = pd.concat([df_2_inh, df])\n",
    "df = pd.DataFrame(avg3)\n",
    "df['Type'] = ['P3']*avg3.shape[0]\n",
    "df = df.rename(columns={0: 'Average Firing Rate'})\n",
    "df_2_inh = pd.concat([df_2_inh, df])"
   ]
  },
  {
   "cell_type": "code",
   "execution_count": null,
   "id": "6af05adb",
   "metadata": {
    "scrolled": false
   },
   "outputs": [],
   "source": [
    "\n",
    "plt.rcParams[\"figure.figsize\"] = (9,5.5)\n",
    "fig, (ax1, ax2) = plt.subplots(nrows = 1, ncols = 2)\n",
    "fig.suptitle(\"Pattern 2 pref\", fontsize = 20, y = 1.05)\n",
    "\n",
    "ax1 = sns.swarmplot(x=\"Type\", y=\"Average Firing Rate\", data=df_2_inh, size = 5, color = 'darkslateblue', alpha = 1.0, ax=ax1)\n",
    "ax1.spines[['right', 'top']].set_visible(False)\n",
    "ax1.set_ylabel(\"Response (ΔF/F)\", fontsize = 17)\n",
    "ax1.set_title(\"Control\", fontsize = 16, pad = 35)\n",
    "df_mean_inh2 = df_2_inh.groupby('Type', sort=False)[\"Average Firing Rate\"].mean()\n",
    "_ = [ax1.hlines(y, i-.45, i+.45, zorder=99, colors = 'black', linewidth=3) for i, y in df_mean_inh2.reset_index()[\"Average Firing Rate\"].items()]\n",
    "ax1.tick_params('both', labelsize = 15)\n",
    "ax2.tick_params('both', labelsize = 15)\n",
    "ax2 = sns.swarmplot(x=\"Type\", y=\"Average Firing Rate\", data=df_2, size = 5, color = 'darkslateblue', alpha = 1.0, ax=ax2)\n",
    "ax2.spines[['right', 'top']].set_visible(False)\n",
    "ax2.set_xlabel('Type', fontsize = 17)\n",
    "ax2.set(ylabel=None)\n",
    "ax2.set(xlabel=None)\n",
    "ax1.set(xlabel=None)\n",
    "ax2.set_title(\"DART\", fontsize = 16, color = 'red', pad = 35)\n",
    "df_mean2 = df_2.groupby('Type', sort=False)[\"Average Firing Rate\"].mean()\n",
    "_ = [ax2.hlines(y, i-.45, i+.45, zorder=99, colors = 'black', linewidth=3) for i, y in df_mean2.reset_index()[\"Average Firing Rate\"].items()]\n",
    "\n",
    "y_max = round(ax1.get_ylim()[1])\n",
    "ax1.text(0.25, y_max - 3, '****', fontsize = 15)\n",
    "ax1.text(1.55, y_max - 3, '****', fontsize = 15)\n",
    "ax1.text(-0.4, y_max + 2, '-------------- **** --------------', fontsize = 15)\n",
    "y_max = round(ax2.get_ylim()[1])\n",
    "ax2.text(0.25, y_max - 3, '****', fontsize = 15)\n",
    "ax2.text(1.55, y_max - 3, '****', fontsize = 15)\n",
    "ax2.text(-0.4, y_max + 2, '-------------- **** --------------', fontsize = 15)\n",
    "\n",
    "\n",
    "\n",
    "fig.savefig(FIGURE_3_RESULTS_DIR + '/pattern2_pref.png', bbox_inches=\"tight\", dpi = 200)\n"
   ]
  },
  {
   "cell_type": "code",
   "execution_count": 21,
   "id": "ea81b79d",
   "metadata": {},
   "outputs": [],
   "source": [
    "# Dataframes for GrCs that prefer pattern 1 with and without inhibition\n",
    "# Selecting only a small sample for the swarmplots\n",
    "\n",
    "pref3_total = pref3\n",
    "pref3_total_inh = pref3_inh\n",
    "\n",
    "pref3 = random.choices(pref3, k=300)\n",
    "pref3_inh = random.choices(pref3_inh, k=300)\n",
    "avg1 = np.sum(matrix_1[pref3,20:], axis = 1)/matrix_1[pref3,20:].shape[1]\n",
    "avg2 = np.sum(matrix_2[pref3,20:], axis = 1)/matrix_2[pref3,20:].shape[1]\n",
    "avg3 = np.sum(matrix_3[pref3,20:], axis = 1)/matrix_3[pref3,20:].shape[1] \n",
    "\n",
    "df_3 = pd.DataFrame(avg1)\n",
    "df_3['Type'] = ['P1']*avg1.shape[0]\n",
    "df_3 = df_3.rename(columns={0: 'Average Firing Rate'})\n",
    "df = pd.DataFrame(avg2)\n",
    "df['Type'] = ['P2']*avg2.shape[0]\n",
    "df = df.rename(columns={0: 'Average Firing Rate'})\n",
    "df_3 = pd.concat([df_3, df])\n",
    "df = pd.DataFrame(avg3)\n",
    "df['Type'] = ['P3']*avg3.shape[0]\n",
    "df = df.rename(columns={0: 'Average Firing Rate'})\n",
    "df_3 = pd.concat([df_3, df])\n",
    "avg1 = np.sum(matrix_1_inh[pref3_inh ,20:], axis = 1)/matrix_1_inh[pref3_inh ,20:].shape[1]\n",
    "avg2 = np.sum(matrix_2_inh[pref3_inh ,20:], axis = 1)/matrix_2_inh[pref3_inh ,20:].shape[1]\n",
    "avg3 = np.sum(matrix_3_inh[pref3_inh ,20:], axis = 1)/matrix_3_inh[pref3_inh ,20:].shape[1]\n",
    "df_3_inh = pd.DataFrame(avg1)\n",
    "df_3_inh['Type'] = ['P1']*avg1.shape[0]\n",
    "df_3_inh = df_3_inh.rename(columns={0: 'Average Firing Rate'})\n",
    "df = pd.DataFrame(avg2)\n",
    "df['Type'] = ['P2']*avg2.shape[0]\n",
    "df = df.rename(columns={0: 'Average Firing Rate'})\n",
    "df_3_inh = pd.concat([df_3_inh, df])\n",
    "df = pd.DataFrame(avg3)\n",
    "df['Type'] = ['P3']*avg3.shape[0]\n",
    "df = df.rename(columns={0: 'Average Firing Rate'})\n",
    "df_3_inh = pd.concat([df_3_inh, df])"
   ]
  },
  {
   "cell_type": "code",
   "execution_count": null,
   "id": "27405843",
   "metadata": {
    "scrolled": true
   },
   "outputs": [],
   "source": [
    "\n",
    "plt.rcParams[\"figure.figsize\"] = (9,5.5)\n",
    "fig, (ax1, ax2) = plt.subplots(nrows = 1, ncols = 2)\n",
    "fig.suptitle(\"Pattern 3 pref\", fontsize = 20, y = 1.05)\n",
    "\n",
    "ax1 = sns.swarmplot(x=\"Type\", y=\"Average Firing Rate\", data=df_3_inh, size = 5, color = 'purple', alpha = 1.0, ax=ax1)\n",
    "ax1.spines[['right', 'top']].set_visible(False)\n",
    "ax1.set_ylabel(\"Response (ΔF/F)\", fontsize = 17)\n",
    "ax1.set_title(\"Control\", fontsize = 16, pad = 35)\n",
    "df_mean_inh3 = df_3_inh.groupby('Type', sort=False)[\"Average Firing Rate\"].mean()\n",
    "_ = [ax1.hlines(y, i-.45, i+.45, zorder=99, colors = 'black', linewidth=3) for i, y in df_mean_inh3.reset_index()[\"Average Firing Rate\"].items()]\n",
    "ax1.tick_params('both', labelsize = 15)\n",
    "ax2.tick_params('both', labelsize = 15)\n",
    "ax2 = sns.swarmplot(x=\"Type\", y=\"Average Firing Rate\", data=df_3, size = 5, color = 'purple', alpha = 1.0, ax=ax2)\n",
    "ax2.spines[['right', 'top']].set_visible(False)\n",
    "ax2.set_xlabel('Type', fontsize = 17)\n",
    "ax2.set(ylabel=None)\n",
    "ax2.set(xlabel=None)\n",
    "ax1.set(xlabel=None)\n",
    "ax2.set_title(\"DART\", fontsize = 16, color = 'red', pad = 35)\n",
    "df_mean3 = df_3.groupby('Type', sort=False)[\"Average Firing Rate\"].mean()\n",
    "_ = [ax2.hlines(y, i-.45, i+.45, zorder=99, colors = 'black', linewidth=3) for i, y in df_mean3.reset_index()[\"Average Firing Rate\"].items()]\n",
    "\n",
    "y_max = round(ax1.get_ylim()[1])\n",
    "ax1.text(0.25, y_max - 3, '****', fontsize = 15)\n",
    "ax1.text(1.55, y_max - 3, '****', fontsize = 15)\n",
    "ax1.text(-0.4, y_max + 2, '-------------- **** --------------', fontsize = 15)\n",
    "y_max = round(ax2.get_ylim()[1])\n",
    "ax2.text(0.25, y_max - 3, '****', fontsize = 15)\n",
    "ax2.text(1.55, y_max - 3, '****', fontsize = 15)\n",
    "ax2.text(-0.4, y_max + 2, '-------------- **** --------------', fontsize = 15)\n",
    "\n",
    "\n",
    "fig.savefig(FIGURE_3_RESULTS_DIR + '/pattern3_pref.png', bbox_inches=\"tight\", dpi = 200)\n"
   ]
  },
  {
   "cell_type": "code",
   "execution_count": 23,
   "id": "5350e458",
   "metadata": {},
   "outputs": [],
   "source": [
    "## means of each set\n",
    "df_mean1 = pd.DataFrame(df_mean1)\n",
    "df_mean2 = pd.DataFrame(df_mean2)\n",
    "df_mean3 = pd.DataFrame(df_mean3)\n",
    "df_mean_inh1 = pd.DataFrame(df_mean_inh1)\n",
    "df_mean_inh2 = pd.DataFrame(df_mean_inh2)\n",
    "df_mean_inh3 = pd.DataFrame(df_mean_inh3)"
   ]
  },
  {
   "cell_type": "code",
   "execution_count": 24,
   "id": "5a8353e0",
   "metadata": {},
   "outputs": [],
   "source": [
    "pref1 = ['Pref1', 'Pref1', 'Pref1']\n",
    "new_data = {'Pref': pref1}\n",
    "df_mean1 = df_mean1.assign(**new_data)\n",
    "pref2 = ['Pref2', 'Pref2', 'Pref2']\n",
    "new_data = {'Pref': pref2}\n",
    "df_mean2 = df_mean2.assign(**new_data)\n",
    "pref3 = ['Pref3', 'Pref3', 'Pref3']\n",
    "new_data = {'Pref': pref3}\n",
    "df_mean3 = df_mean3.assign(**new_data)"
   ]
  },
  {
   "cell_type": "code",
   "execution_count": 25,
   "id": "f56a31a5",
   "metadata": {},
   "outputs": [],
   "source": [
    "pref1_inh = ['Pref1', 'Pref1', 'Pref1']\n",
    "new_data = {'Pref': pref1_inh}\n",
    "df_mean_inh1 = df_mean_inh1.assign(**new_data)\n",
    "pref2_inh = ['Pref2', 'Pref2', 'Pref2']\n",
    "new_data = {'Pref': pref2_inh}\n",
    "df_mean_inh2 = df_mean_inh2.assign(**new_data)\n",
    "pref3_inh = ['Pref3', 'Pref3', 'Pref3']\n",
    "new_data = {'Pref': pref3_inh}\n",
    "df_mean_inh3 = df_mean_inh3.assign(**new_data)"
   ]
  },
  {
   "cell_type": "code",
   "execution_count": 26,
   "id": "4a739ea5",
   "metadata": {},
   "outputs": [],
   "source": [
    "frames = [df_mean1, df_mean2, df_mean3]\n",
    "result = pd.concat(frames)\n",
    "result['Type'] = result.index\n",
    "frames = [df_mean_inh1, df_mean_inh2, df_mean_inh3]\n",
    "result_inh = pd.concat(frames)\n",
    "result_inh['Type'] = result_inh.index"
   ]
  },
  {
   "cell_type": "code",
   "execution_count": 27,
   "id": "fd156f8d",
   "metadata": {},
   "outputs": [],
   "source": [
    "## Normalizing dataframes"
   ]
  },
  {
   "cell_type": "code",
   "execution_count": null,
   "id": "f8616cbc",
   "metadata": {},
   "outputs": [],
   "source": [
    "maximo1 = result['Average Firing Rate']['P1'].max()\n",
    "maximo2 = result['Average Firing Rate']['P2'].max()\n",
    "maximo3 = result['Average Firing Rate']['P3'].max()\n",
    "result['Average Firing Rate']['P1'] = result['Average Firing Rate']['P1']/maximo1\n",
    "result['Average Firing Rate']['P2'] = result['Average Firing Rate']['P2']/maximo2\n",
    "result['Average Firing Rate']['P3'] = result['Average Firing Rate']['P3']/maximo3"
   ]
  },
  {
   "cell_type": "code",
   "execution_count": null,
   "id": "c53c2321",
   "metadata": {
    "scrolled": true
   },
   "outputs": [],
   "source": [
    "maximo1 = result_inh['Average Firing Rate']['P1'].max()\n",
    "maximo2 = result_inh['Average Firing Rate']['P2'].max()\n",
    "maximo3 = result_inh['Average Firing Rate']['P3'].max()\n",
    "result_inh['Average Firing Rate']['P1'] = result_inh['Average Firing Rate']['P1']/maximo1\n",
    "result_inh['Average Firing Rate']['P2'] = result_inh['Average Firing Rate']['P2']/maximo2\n",
    "result_inh['Average Firing Rate']['P3'] = result_inh['Average Firing Rate']['P3']/maximo3"
   ]
  },
  {
   "cell_type": "code",
   "execution_count": null,
   "id": "2b76ea69",
   "metadata": {},
   "outputs": [],
   "source": [
    "prefs = ['Pref1', 'Pref2', 'Pref3']\n",
    "colors = ['dodgerblue', 'darkslateblue', 'purple']\n",
    "plt.rcParams[\"figure.figsize\"] = (3.5,5)\n",
    "fig, ax = plt.subplots()\n",
    "\n",
    "for i in range(len(prefs)):\n",
    "    \n",
    "    df = result_inh[result_inh['Pref'] == prefs[i]]\n",
    "    ax.scatter(df['Type'].values, df['Average Firing Rate'].values, c = colors[i], s = 100)\n",
    "    ax.plot(df['Type'].values, df['Average Firing Rate'].values, c = colors[i])\n",
    "    \n",
    "ax.tick_params('both', labelsize = 15)\n",
    "ax.set_ylim([0, 1.1])\n",
    "ax.spines[['right', 'top']].set_visible(False)\n",
    "ax.set_ylabel('Response (norm.)', fontsize = 15)\n",
    "ax.set_title('Control', fontsize = 17)\n",
    "#fig.savefig(path + '/control_response_all.png', bbox_inches=\"tight\", dpi = 200)"
   ]
  },
  {
   "cell_type": "code",
   "execution_count": null,
   "id": "9d7d3ae0",
   "metadata": {},
   "outputs": [],
   "source": [
    "\n",
    "plt.rcParams[\"figure.figsize\"] = (3.5,5)\n",
    "fig, ax = plt.subplots()\n",
    "\n",
    "df = result[result['Pref'] == prefs[0]] \n",
    "df_inh = result_inh[result_inh['Pref'] == prefs[0]]\n",
    "ax.scatter(df['Type'].values, df['Average Firing Rate'].values, c = 'red', s = 100)\n",
    "ax.plot(df['Type'].values, df['Average Firing Rate'].values, c = 'red')\n",
    "ax.scatter(df_inh['Type'].values, df_inh['Average Firing Rate'].values, c = colors[0], s = 100)\n",
    "ax.plot(df_inh['Type'].values, df_inh['Average Firing Rate'].values, c = colors[0])\n",
    "\n",
    "ax.tick_params('both', labelsize = 15)\n",
    "ax.set_ylim([0, 1.1])\n",
    "ax.spines[['right', 'top']].set_visible(False)\n",
    "ax.set_ylabel('Response (norm.)', fontsize = 15)\n",
    "ax.set_title('DART', color = 'red', fontsize = 15)\n",
    "#fig.savefig(path + '/dart_response_1.png', bbox_inches=\"tight\", dpi = 200)"
   ]
  },
  {
   "cell_type": "code",
   "execution_count": null,
   "id": "824204c5",
   "metadata": {
    "scrolled": true
   },
   "outputs": [],
   "source": [
    "prefs = ['Pref1', 'Pref2', 'Pref3']\n",
    "\n",
    "plt.rcParams[\"figure.figsize\"] = (3.5,5)\n",
    "fig, ax = plt.subplots()\n",
    "\n",
    "df = result[result['Pref'] == prefs[1]] \n",
    "df_inh = result_inh[result_inh['Pref'] == prefs[1]]\n",
    "ax.scatter(df['Type'].values, df['Average Firing Rate'].values, c = 'red', s = 100)\n",
    "ax.plot(df['Type'].values, df['Average Firing Rate'].values, c = 'red')\n",
    "ax.scatter(df_inh['Type'].values, df_inh['Average Firing Rate'].values, c = colors[1], s = 100)\n",
    "ax.plot(df_inh['Type'].values, df_inh['Average Firing Rate'].values, c = colors[1])\n",
    "\n",
    "ax.tick_params('both', labelsize = 15)\n",
    "ax.set_ylim([0, 1.1])\n",
    "ax.spines[['right', 'top']].set_visible(False)\n",
    "ax.set_ylabel('Response (norm.)', fontsize = 15)\n",
    "#fig.savefig(path + '/dart_response_2.png', bbox_inches=\"tight\", dpi = 200)"
   ]
  },
  {
   "cell_type": "code",
   "execution_count": null,
   "id": "f3de00f4",
   "metadata": {
    "scrolled": true
   },
   "outputs": [],
   "source": [
    "prefs = ['Pref1', 'Pref2', 'Pref3']\n",
    "\n",
    "plt.rcParams[\"figure.figsize\"] = (3.5,5)\n",
    "fig, ax = plt.subplots()\n",
    "\n",
    "df = result[result['Pref'] == prefs[2]] \n",
    "df_inh = result_inh[result_inh['Pref'] == prefs[2]]\n",
    "ax.scatter(df['Type'].values, df['Average Firing Rate'].values, c = 'red', s = 100)\n",
    "ax.plot(df['Type'].values, df['Average Firing Rate'].values, c = 'red')\n",
    "ax.scatter(df_inh['Type'].values, df_inh['Average Firing Rate'].values, c = colors[2], s = 100)\n",
    "ax.plot(df_inh['Type'].values, df_inh['Average Firing Rate'].values, c = colors[2])\n",
    "ax.set_ylim([0, 1.1])\n",
    "ax.tick_params('both', labelsize = 15)\n",
    "ax.spines[['right', 'top']].set_visible(False)\n",
    "ax.set_ylabel('Response (norm.)', fontsize = 15)\n",
    "#fig.savefig(path + '/dart_response_3.png', bbox_inches=\"tight\", dpi = 200)"
   ]
  },
  {
   "cell_type": "markdown",
   "id": "7ca48e35",
   "metadata": {},
   "source": [
    "# VIOLIN PLOTS VERSIONS THAT INCLUDE ALL THE CELLS AND STATISTICS "
   ]
  },
  {
   "cell_type": "code",
   "execution_count": 34,
   "id": "52b29386",
   "metadata": {},
   "outputs": [],
   "source": [
    "# Dataframes for GrCs that prefer pattern 1 with and without inhibition\n",
    "# Violinplots\n",
    "\n",
    "avg1 = np.sum(matrix_1[pref1_total,20:], axis = 1)/matrix_1[pref1_total,20:].shape[1]\n",
    "avg2 = np.sum(matrix_2[pref1_total,20:], axis = 1)/matrix_2[pref1_total,20:].shape[1]\n",
    "avg3 = np.sum(matrix_3[pref1_total,20:], axis = 1)/matrix_3[pref1_total,20:].shape[1] \n",
    "df_1 = pd.DataFrame(avg1)\n",
    "df_1['Type'] = ['P1']*avg1.shape[0]\n",
    "df_1 = df_1.rename(columns={0: 'Average Firing Rate'})\n",
    "df = pd.DataFrame(avg2)\n",
    "df['Type'] = ['P2']*avg2.shape[0]\n",
    "df = df.rename(columns={0: 'Average Firing Rate'})\n",
    "df_1 = pd.concat([df_1, df])\n",
    "df = pd.DataFrame(avg3)\n",
    "df['Type'] = ['P3']*avg3.shape[0]\n",
    "df = df.rename(columns={0: 'Average Firing Rate'})\n",
    "df_1 = pd.concat([df_1, df])\n",
    "avg1 = np.sum(matrix_1_inh[pref1_total_inh,20:], axis = 1)/matrix_1_inh[pref1_total_inh,20:].shape[1]\n",
    "avg2 = np.sum(matrix_2_inh[pref1_total_inh,20:], axis = 1)/matrix_2_inh[pref1_total_inh,20:].shape[1]\n",
    "avg3 = np.sum(matrix_3_inh[pref1_total_inh,20:], axis = 1)/matrix_3_inh[pref1_total_inh,20:].shape[1] \n",
    "df_1_inh = pd.DataFrame(avg1)\n",
    "df_1_inh['Type'] = ['P1']*avg1.shape[0]\n",
    "df_1_inh = df_1_inh.rename(columns={0: 'Average Firing Rate'})\n",
    "df = pd.DataFrame(avg2)\n",
    "df['Type'] = ['P2']*avg2.shape[0]\n",
    "df = df.rename(columns={0: 'Average Firing Rate'})\n",
    "df_1_inh = pd.concat([df_1_inh, df])\n",
    "df = pd.DataFrame(avg3)\n",
    "df['Type'] = ['P3']*avg3.shape[0]\n",
    "df = df.rename(columns={0: 'Average Firing Rate'})\n",
    "df_1_inh = pd.concat([df_1_inh, df])"
   ]
  },
  {
   "cell_type": "code",
   "execution_count": null,
   "id": "8227c7b8",
   "metadata": {},
   "outputs": [],
   "source": [
    "\n",
    "plt.rcParams[\"figure.figsize\"] = (8,5)\n",
    "fig, (ax1, ax2) = plt.subplots(nrows = 1, ncols = 2)\n",
    "fig.suptitle(\"Pattern 1 pref\", fontsize = 20, y = 1.10)\n",
    "\n",
    "ax1 = sns.violinplot(x=\"Type\", y=\"Average Firing Rate\", data=df_1_inh, color = 'dodgerblue', alpha = 1.0, ax=ax1)\n",
    "ax1.spines[['right', 'top']].set_visible(False)\n",
    "ax1.set_ylabel(\"Response (ΔF/F)\", fontsize = 17)\n",
    "ax1.set_title(\"Control\", fontsize = 16, pad = 35)\n",
    "df_mean_inh1 = df_1_inh.groupby('Type', sort=False)[\"Average Firing Rate\"].mean()\n",
    "_ = [ax1.hlines(y, i-.45, i+.45, zorder=2, colors = 'black', linewidth=3) for i, y in df_mean_inh1.reset_index()[\"Average Firing Rate\"].items()]\n",
    "ax1.tick_params('both', labelsize = 15)\n",
    "ax2.tick_params('both', labelsize = 15)\n",
    "ax2 = sns.violinplot(x=\"Type\", y=\"Average Firing Rate\", data=df_1, color = 'dodgerblue', alpha = 1.0, ax=ax2)\n",
    "ax2.spines[['right', 'top']].set_visible(False)\n",
    "ax2.set_xlabel('Type', fontsize = 17)\n",
    "ax2.set(ylabel=None)\n",
    "ax2.set(xlabel=None)\n",
    "ax1.set(xlabel=None)\n",
    "ax2.set_title(\"DART\", fontsize = 16, color = 'red', pad = 35)\n",
    "df_mean1 = df_1.groupby('Type', sort=False)[\"Average Firing Rate\"].mean()\n",
    "_ = [ax2.hlines(y, i-.45, i+.45, zorder=2, colors = 'black', linewidth=3) for i, y in df_mean1.reset_index()[\"Average Firing Rate\"].items()]\n",
    "\n",
    "\n",
    "y_max = round(ax1.get_ylim()[1])\n",
    "ax1.text(0.25, y_max - 6, '****', fontsize = 15)\n",
    "ax1.text(1.55, y_max - 6, 'NS', fontsize = 15)\n",
    "ax1.text(-0.1, y_max , '--------- **** ---------', fontsize = 15)\n",
    "y_max = round(ax2.get_ylim()[1])\n",
    "ax2.text(0.25, y_max - 6, '****', fontsize = 15)\n",
    "ax2.text(1.35, y_max - 6, '****', fontsize = 15)\n",
    "ax2.text(-0.1, y_max , '--------- **** ---------', fontsize = 15)\n",
    "\n",
    "fig.savefig(FIGURE_3_RESULTS_DIR + '/violin_pattern1_pref.png', bbox_inches=\"tight\", dpi = 200)"
   ]
  },
  {
   "cell_type": "code",
   "execution_count": 36,
   "id": "bfae9fd4",
   "metadata": {
    "scrolled": true
   },
   "outputs": [],
   "source": [
    "\n",
    "## Hypothesis tests\n",
    "## Notice that P-values results were calculated and then they were manually written in every plot\n",
    "## Therefore they should be edited for each combination of parameters computed\n",
    "test12 = stats.ttest_rel(df_1[df_1[\"Type\"] == \"P1\"][\"Average Firing Rate\"], \n",
    "         df_1[df_1[\"Type\"] == \"P2\"][\"Average Firing Rate\"])\n",
    "test13 = stats.ttest_rel(df_1[df_1[\"Type\"] == \"P1\"][\"Average Firing Rate\"], \n",
    "         df_1[df_1[\"Type\"] == \"P3\"][\"Average Firing Rate\"])   \n",
    "test23 = stats.ttest_rel(df_1[df_1[\"Type\"] == \"P2\"][\"Average Firing Rate\"], \n",
    "         df_1[df_1[\"Type\"] == \"P3\"][\"Average Firing Rate\"])   "
   ]
  },
  {
   "cell_type": "code",
   "execution_count": null,
   "id": "a919e611",
   "metadata": {},
   "outputs": [],
   "source": [
    "print(test12)\n",
    "print(test13)\n",
    "print(test23)"
   ]
  },
  {
   "cell_type": "code",
   "execution_count": 38,
   "id": "b93b3922",
   "metadata": {},
   "outputs": [],
   "source": [
    "test12 = stats.ttest_rel(df_1_inh[df_1_inh[\"Type\"] == \"P1\"][\"Average Firing Rate\"], \n",
    "         df_1_inh[df_1_inh[\"Type\"] == \"P2\"][\"Average Firing Rate\"])\n",
    "test13 = stats.ttest_rel(df_1_inh[df_1_inh[\"Type\"] == \"P1\"][\"Average Firing Rate\"], \n",
    "         df_1_inh[df_1_inh[\"Type\"] == \"P3\"][\"Average Firing Rate\"])   \n",
    "test23 = stats.ttest_rel(df_1_inh[df_1_inh[\"Type\"] == \"P2\"][\"Average Firing Rate\"], \n",
    "         df_1_inh[df_1_inh[\"Type\"] == \"P3\"][\"Average Firing Rate\"])   "
   ]
  },
  {
   "cell_type": "code",
   "execution_count": null,
   "id": "559025a3",
   "metadata": {},
   "outputs": [],
   "source": [
    "print(test12)\n",
    "print(test13)\n",
    "print(test23)"
   ]
  },
  {
   "cell_type": "code",
   "execution_count": null,
   "id": "8637720d",
   "metadata": {},
   "outputs": [],
   "source": [
    "df_mean1"
   ]
  },
  {
   "cell_type": "code",
   "execution_count": null,
   "id": "1b6378d6",
   "metadata": {},
   "outputs": [],
   "source": [
    "df_1.groupby('Type', sort=False)[\"Average Firing Rate\"].sem()"
   ]
  },
  {
   "cell_type": "code",
   "execution_count": null,
   "id": "ab39ce69",
   "metadata": {},
   "outputs": [],
   "source": [
    "df_mean_inh1"
   ]
  },
  {
   "cell_type": "code",
   "execution_count": null,
   "id": "dd15823a",
   "metadata": {},
   "outputs": [],
   "source": [
    "df_1_inh.groupby('Type', sort=False)[\"Average Firing Rate\"].sem()"
   ]
  },
  {
   "cell_type": "code",
   "execution_count": 44,
   "id": "f5cb795c",
   "metadata": {},
   "outputs": [],
   "source": [
    "# Dataframes for GrCs that prefer pattern 2 with and without inhibition\n",
    "# Violinplots\n",
    "\n",
    "pref = pref2_total\n",
    "avg1 = np.sum(matrix_1[pref2_total,20:], axis = 1)/matrix_1[pref2_total,20:].shape[1]\n",
    "avg2 = np.sum(matrix_2[pref2_total,20:], axis = 1)/matrix_2[pref2_total,20:].shape[1]\n",
    "avg3 = np.sum(matrix_3[pref2_total,20:], axis = 1)/matrix_3[pref2_total,20:].shape[1] \n",
    "df_2 = pd.DataFrame(avg1)\n",
    "df_2['Type'] = ['P1']*avg1.shape[0]\n",
    "df_2 = df_2.rename(columns={0: 'Average Firing Rate'})\n",
    "df = pd.DataFrame(avg2)\n",
    "df['Type'] = ['P2']*avg2.shape[0]\n",
    "df = df.rename(columns={0: 'Average Firing Rate'})\n",
    "df_2 = pd.concat([df_2, df])\n",
    "df = pd.DataFrame(avg3)\n",
    "df['Type'] = ['P3']*avg3.shape[0]\n",
    "df = df.rename(columns={0: 'Average Firing Rate'})\n",
    "df_2 = pd.concat([df_2, df])\n",
    "avg1 = np.sum(matrix_1_inh[pref2_total_inh,20:], axis = 1)/matrix_1_inh[pref2_total_inh,20:].shape[1]\n",
    "avg2 = np.sum(matrix_2_inh[pref2_total_inh,20:], axis = 1)/matrix_2_inh[pref2_total_inh,20:].shape[1]\n",
    "avg3 = np.sum(matrix_3_inh[pref2_total_inh,20:], axis = 1)/matrix_3_inh[pref2_total_inh,20:].shape[1]\n",
    "df_2_inh = pd.DataFrame(avg1)\n",
    "df_2_inh['Type'] = ['P1']*avg1.shape[0]\n",
    "df_2_inh = df_2_inh.rename(columns={0: 'Average Firing Rate'})\n",
    "df = pd.DataFrame(avg2)\n",
    "df['Type'] = ['P2']*avg2.shape[0]\n",
    "df = df.rename(columns={0: 'Average Firing Rate'})\n",
    "df_2_inh = pd.concat([df_2_inh, df])\n",
    "df = pd.DataFrame(avg3)\n",
    "df['Type'] = ['P3']*avg3.shape[0]\n",
    "df = df.rename(columns={0: 'Average Firing Rate'})\n",
    "df_2_inh = pd.concat([df_2_inh, df])"
   ]
  },
  {
   "cell_type": "code",
   "execution_count": null,
   "id": "1a497bff",
   "metadata": {
    "scrolled": false
   },
   "outputs": [],
   "source": [
    "\n",
    "plt.rcParams[\"figure.figsize\"] = (8,5)\n",
    "fig, (ax1, ax2) = plt.subplots(nrows = 1, ncols = 2)\n",
    "fig.suptitle(\"Pattern 2 pref\", fontsize = 20, y =1.10)\n",
    "\n",
    "ax1 = sns.violinplot(x=\"Type\", y=\"Average Firing Rate\", data=df_2_inh, color = 'darkslateblue', alpha = 1.0, ax=ax1)\n",
    "ax1.spines[['right', 'top']].set_visible(False)\n",
    "ax1.set_ylabel(\"Response (ΔF/F)\", fontsize = 17)\n",
    "ax1.set_title(\"Control\", fontsize = 16, pad = 35)\n",
    "df_mean_inh2 = df_2_inh.groupby('Type', sort=False)[\"Average Firing Rate\"].mean()\n",
    "_ = [ax1.hlines(y, i-.45, i+.45, zorder=2, colors = 'black', linewidth=3) for i, y in df_mean_inh2.reset_index()[\"Average Firing Rate\"].items()]\n",
    "ax1.tick_params('both', labelsize = 15)\n",
    "ax2.tick_params('both', labelsize = 15)\n",
    "ax2 = sns.violinplot(x=\"Type\", y=\"Average Firing Rate\", data=df_2, color = 'darkslateblue', alpha = 1.0, ax=ax2)\n",
    "ax2.spines[['right', 'top']].set_visible(False)\n",
    "ax2.set_xlabel('Type', fontsize = 17)\n",
    "ax2.set(ylabel=None)\n",
    "ax2.set(xlabel=None)\n",
    "ax1.set(xlabel=None)\n",
    "ax2.set_title(\"DART\", fontsize = 16, color = 'red', pad = 35)\n",
    "df_mean2 = df_2.groupby('Type', sort=False)[\"Average Firing Rate\"].mean()\n",
    "_ = [ax2.hlines(y, i-.45, i+.45, zorder=2, colors = 'black', linewidth=3) for i, y in df_mean2.reset_index()[\"Average Firing Rate\"].items()]\n",
    "\n",
    "y_max = round(ax1.get_ylim()[1])\n",
    "ax1.text(0.25, y_max - 6, '****', fontsize = 15)\n",
    "ax1.text(1.35, y_max - 6, '****', fontsize = 15)\n",
    "ax1.text(-0.1, y_max , '--------- **** ---------', fontsize = 15)\n",
    "y_max = round(ax2.get_ylim()[1])\n",
    "ax2.text(0.25, y_max - 6, '****', fontsize = 15)\n",
    "ax2.text(1.35, y_max - 6, '****', fontsize = 15)\n",
    "ax2.text(-0.1, y_max , '--------- **** ---------', fontsize = 15)\n",
    "fig.savefig(FIGURE_3_RESULTS_DIR + '/violin_pattern2_pref.png', bbox_inches=\"tight\", dpi = 200)\n"
   ]
  },
  {
   "cell_type": "code",
   "execution_count": null,
   "id": "ef34a087",
   "metadata": {},
   "outputs": [],
   "source": [
    "\n",
    "test12 = stats.ttest_rel(df_2[df_2[\"Type\"] == \"P1\"][\"Average Firing Rate\"], \n",
    "         df_2[df_2[\"Type\"] == \"P2\"][\"Average Firing Rate\"])\n",
    "test13 = stats.ttest_rel(df_2[df_2[\"Type\"] == \"P1\"][\"Average Firing Rate\"], \n",
    "         df_2[df_2[\"Type\"] == \"P3\"][\"Average Firing Rate\"])   \n",
    "test23 = stats.ttest_rel(df_2[df_2[\"Type\"] == \"P2\"][\"Average Firing Rate\"], \n",
    "         df_2[df_2[\"Type\"] == \"P3\"][\"Average Firing Rate\"])   \n",
    "print(test12)\n",
    "print(test13)\n",
    "print(test23)"
   ]
  },
  {
   "cell_type": "code",
   "execution_count": null,
   "id": "26656fdd",
   "metadata": {},
   "outputs": [],
   "source": [
    "test12 = stats.ttest_rel(df_2_inh[df_2_inh[\"Type\"] == \"P1\"][\"Average Firing Rate\"], \n",
    "         df_2_inh[df_2_inh[\"Type\"] == \"P2\"][\"Average Firing Rate\"])\n",
    "test13 = stats.ttest_rel(df_2_inh[df_2_inh[\"Type\"] == \"P1\"][\"Average Firing Rate\"], \n",
    "         df_2_inh[df_2_inh[\"Type\"] == \"P3\"][\"Average Firing Rate\"])   \n",
    "test23 = stats.ttest_rel(df_2_inh[df_2_inh[\"Type\"] == \"P2\"][\"Average Firing Rate\"], \n",
    "         df_2_inh[df_2_inh[\"Type\"] == \"P3\"][\"Average Firing Rate\"])   \n",
    "print(test12)\n",
    "print(test13)\n",
    "print(test23)"
   ]
  },
  {
   "cell_type": "code",
   "execution_count": null,
   "id": "9152ac63",
   "metadata": {},
   "outputs": [],
   "source": [
    "df_mean2"
   ]
  },
  {
   "cell_type": "code",
   "execution_count": null,
   "id": "ca4383b1",
   "metadata": {},
   "outputs": [],
   "source": [
    "df_2.groupby('Type', sort=False)[\"Average Firing Rate\"].sem()"
   ]
  },
  {
   "cell_type": "code",
   "execution_count": null,
   "id": "31b5c7ef",
   "metadata": {},
   "outputs": [],
   "source": [
    "df_mean_inh2"
   ]
  },
  {
   "cell_type": "code",
   "execution_count": null,
   "id": "944df9b7",
   "metadata": {},
   "outputs": [],
   "source": [
    "df_2_inh.groupby('Type', sort=False)[\"Average Firing Rate\"].sem()"
   ]
  },
  {
   "cell_type": "code",
   "execution_count": 52,
   "id": "898ea79d",
   "metadata": {},
   "outputs": [],
   "source": [
    "# Dataframes for GrCs that prefer pattern 3 with and without inhibition\n",
    "# Violinplots\n",
    "\n",
    "\n",
    "pref = pref3_total\n",
    "avg1 = np.sum(matrix_1[pref3_total,20:], axis = 1)/matrix_1[pref3_total,20:].shape[1]\n",
    "avg2 = np.sum(matrix_2[pref3_total,20:], axis = 1)/matrix_2[pref3_total,20:].shape[1]\n",
    "avg3 = np.sum(matrix_3[pref3_total,20:], axis = 1)/matrix_3[pref3_total,20:].shape[1] \n",
    "\n",
    "df_3 = pd.DataFrame(avg1)\n",
    "df_3['Type'] = ['P1']*avg1.shape[0]\n",
    "df_3 = df_3.rename(columns={0: 'Average Firing Rate'})\n",
    "df = pd.DataFrame(avg2)\n",
    "df['Type'] = ['P2']*avg2.shape[0]\n",
    "df = df.rename(columns={0: 'Average Firing Rate'})\n",
    "df_3 = pd.concat([df_3, df])\n",
    "df = pd.DataFrame(avg3)\n",
    "df['Type'] = ['P3']*avg3.shape[0]\n",
    "df = df.rename(columns={0: 'Average Firing Rate'})\n",
    "df_3 = pd.concat([df_3, df])\n",
    "avg1 = np.sum(matrix_1_inh[pref3_total_inh,20:], axis = 1)/matrix_1_inh[pref3_total_inh,20:].shape[1]\n",
    "avg2 = np.sum(matrix_2_inh[pref3_total_inh,20:], axis = 1)/matrix_2_inh[pref3_total_inh,20:].shape[1]\n",
    "avg3 = np.sum(matrix_3_inh[pref3_total_inh,20:], axis = 1)/matrix_3_inh[pref3_total_inh,20:].shape[1]\n",
    "df_3_inh = pd.DataFrame(avg1)\n",
    "df_3_inh['Type'] = ['P1']*avg1.shape[0]\n",
    "df_3_inh = df_3_inh.rename(columns={0: 'Average Firing Rate'})\n",
    "df = pd.DataFrame(avg2)\n",
    "df['Type'] = ['P2']*avg2.shape[0]\n",
    "df = df.rename(columns={0: 'Average Firing Rate'})\n",
    "df_3_inh = pd.concat([df_3_inh, df])\n",
    "df = pd.DataFrame(avg3)\n",
    "df['Type'] = ['P3']*avg3.shape[0]\n",
    "df = df.rename(columns={0: 'Average Firing Rate'})\n",
    "df_3_inh = pd.concat([df_3_inh, df])"
   ]
  },
  {
   "cell_type": "code",
   "execution_count": null,
   "id": "65eb10b0",
   "metadata": {},
   "outputs": [],
   "source": [
    "\n",
    "plt.rcParams[\"figure.figsize\"] = (8,5)\n",
    "fig, (ax1, ax2) = plt.subplots(nrows = 1, ncols = 2)\n",
    "fig.suptitle(\"Pattern 3 pref\", fontsize = 20, y = 1.10)\n",
    "\n",
    "ax1 = sns.violinplot(x=\"Type\", y=\"Average Firing Rate\", data=df_3_inh, color = 'purple', alpha = 1.0, ax=ax1)\n",
    "ax1.spines[['right', 'top']].set_visible(False)\n",
    "ax1.set_ylabel(\"Response (ΔF/F)\", fontsize = 17)\n",
    "ax1.set_title(\"Control\", fontsize = 16, pad = 35)\n",
    "df_mean_inh3 = df_3_inh.groupby('Type', sort=False)[\"Average Firing Rate\"].mean()\n",
    "_ = [ax1.hlines(y, i-.45, i+.45, zorder=2, colors = 'black', linewidth=3) for i, y in df_mean_inh3.reset_index()[\"Average Firing Rate\"].items()]\n",
    "ax1.tick_params('both', labelsize = 15)\n",
    "ax2.tick_params('both', labelsize = 15)\n",
    "ax2 = sns.violinplot(x=\"Type\", y=\"Average Firing Rate\", data=df_3, color = 'purple', alpha = 1.0, ax=ax2)\n",
    "ax2.spines[['right', 'top']].set_visible(False)\n",
    "ax2.set_xlabel('Type', fontsize = 17)\n",
    "ax2.set(ylabel=None)\n",
    "ax2.set(xlabel=None)\n",
    "ax1.set(xlabel=None)\n",
    "ax2.set_title(\"DART\", fontsize = 16, color = 'red', pad = 35)\n",
    "df_mean3 = df_3.groupby('Type', sort=False)[\"Average Firing Rate\"].mean()\n",
    "_ = [ax2.hlines(y, i-.45, i+.45, zorder=2, colors = 'black', linewidth=3) for i, y in df_mean3.reset_index()[\"Average Firing Rate\"].items()]\n",
    "\n",
    "\n",
    "y_max = round(ax1.get_ylim()[1])\n",
    "ax1.text(0.25, y_max - 6, '****', fontsize = 15)\n",
    "ax1.text(1.35, y_max - 6, '****', fontsize = 15)\n",
    "ax1.text(-0.1, y_max , '--------- **** ---------', fontsize = 15)\n",
    "y_max = round(ax2.get_ylim()[1])\n",
    "ax2.text(0.25, y_max - 6, '****', fontsize = 15)\n",
    "ax2.text(1.35, y_max - 6, '****', fontsize = 15)\n",
    "ax2.text(-0.1, y_max , '--------- **** ---------', fontsize = 15)\n",
    "\n",
    "fig.savefig(FIGURE_3_RESULTS_DIR + '/violin_pattern3_pref.png', bbox_inches=\"tight\", dpi = 200)\n"
   ]
  },
  {
   "cell_type": "code",
   "execution_count": null,
   "id": "8c465acf",
   "metadata": {},
   "outputs": [],
   "source": [
    "\n",
    "test12 = stats.ttest_rel(df_3[df_3[\"Type\"] == \"P1\"][\"Average Firing Rate\"], \n",
    "         df_3[df_3[\"Type\"] == \"P2\"][\"Average Firing Rate\"])\n",
    "test13 = stats.ttest_rel(df_3[df_3[\"Type\"] == \"P1\"][\"Average Firing Rate\"], \n",
    "         df_3[df_3[\"Type\"] == \"P3\"][\"Average Firing Rate\"])   \n",
    "test23 = stats.ttest_rel(df_3[df_3[\"Type\"] == \"P2\"][\"Average Firing Rate\"], \n",
    "         df_3[df_3[\"Type\"] == \"P3\"][\"Average Firing Rate\"])   \n",
    "print(test12)\n",
    "print(test13)\n",
    "print(test23)"
   ]
  },
  {
   "cell_type": "code",
   "execution_count": null,
   "id": "2b930ebd",
   "metadata": {},
   "outputs": [],
   "source": [
    "test12 = stats.ttest_rel(df_3_inh[df_3_inh[\"Type\"] == \"P1\"][\"Average Firing Rate\"], \n",
    "         df_3_inh[df_3_inh[\"Type\"] == \"P2\"][\"Average Firing Rate\"])\n",
    "test13 = stats.ttest_rel(df_3_inh[df_3_inh[\"Type\"] == \"P1\"][\"Average Firing Rate\"], \n",
    "         df_3_inh[df_3_inh[\"Type\"] == \"P3\"][\"Average Firing Rate\"])   \n",
    "test23 = stats.ttest_rel(df_3_inh[df_3_inh[\"Type\"] == \"P2\"][\"Average Firing Rate\"], \n",
    "         df_3_inh[df_3_inh[\"Type\"] == \"P3\"][\"Average Firing Rate\"])   \n",
    "print(test12)\n",
    "print(test13)\n",
    "print(test23)"
   ]
  },
  {
   "cell_type": "code",
   "execution_count": null,
   "id": "4d316d47",
   "metadata": {},
   "outputs": [],
   "source": [
    "df_mean3"
   ]
  },
  {
   "cell_type": "code",
   "execution_count": null,
   "id": "522b3e59",
   "metadata": {},
   "outputs": [],
   "source": [
    "df_3.groupby('Type', sort=False)[\"Average Firing Rate\"].sem()"
   ]
  },
  {
   "cell_type": "code",
   "execution_count": null,
   "id": "b701dbe9",
   "metadata": {},
   "outputs": [],
   "source": [
    "df_mean_inh3"
   ]
  },
  {
   "cell_type": "code",
   "execution_count": null,
   "id": "d60e1599",
   "metadata": {},
   "outputs": [],
   "source": [
    "df_3_inh.groupby('Type', sort=False)[\"Average Firing Rate\"].sem()"
   ]
  },
  {
   "cell_type": "code",
   "execution_count": 60,
   "id": "2817a436",
   "metadata": {},
   "outputs": [],
   "source": [
    "## pattern 1 preferred \n",
    "df_1_inh_norm = df_1_inh\n",
    "df_1_inh_norm[\"Average Firing Rate\"] =  df_1_inh[\"Average Firing Rate\"]/df_1_inh[\"Average Firing Rate\"].max()\n",
    "df_2_inh_norm = df_2_inh\n",
    "df_2_inh_norm[\"Average Firing Rate\"] =  df_2_inh[\"Average Firing Rate\"]/df_2_inh[\"Average Firing Rate\"].max()\n",
    "df_3_inh_norm = df_3_inh\n",
    "df_3_inh_norm[\"Average Firing Rate\"] =  df_3_inh[\"Average Firing Rate\"]/df_3_inh[\"Average Firing Rate\"].max()"
   ]
  },
  {
   "cell_type": "code",
   "execution_count": 61,
   "id": "514467fa",
   "metadata": {},
   "outputs": [],
   "source": [
    "pref1 = ['Pref1']*len(df_1_inh_norm)\n",
    "new_data = {'Pref': pref1}\n",
    "df_1_inh_norm = df_1_inh_norm.assign(**new_data)\n",
    "pref2 = ['Pref2']*len(df_2_inh_norm)\n",
    "new_data = {'Pref': pref2}\n",
    "df_2_inh_norm = df_2_inh_norm.assign(**new_data)\n",
    "pref3 = ['Pref3']*len(df_3_inh_norm)\n",
    "new_data = {'Pref': pref3}\n",
    "df_3_inh_norm = df_3_inh_norm.assign(**new_data)"
   ]
  },
  {
   "cell_type": "code",
   "execution_count": 62,
   "id": "93622646",
   "metadata": {},
   "outputs": [],
   "source": [
    "frames = [df_1_inh_norm, df_2_inh_norm, df_3_inh_norm]\n",
    "result_inh = pd.concat(frames)"
   ]
  },
  {
   "cell_type": "code",
   "execution_count": 63,
   "id": "012cb956",
   "metadata": {},
   "outputs": [],
   "source": [
    "## pattern 1 preferred \n",
    "df_1_norm = df_1\n",
    "df_1_norm[\"Average Firing Rate\"] =  df_1[\"Average Firing Rate\"]/df_1[\"Average Firing Rate\"].max()\n",
    "df_2_norm = df_2\n",
    "df_2_norm[\"Average Firing Rate\"] =  df_2[\"Average Firing Rate\"]/df_2[\"Average Firing Rate\"].max()\n",
    "df_3_norm = df_3\n",
    "df_3_norm[\"Average Firing Rate\"] =  df_3[\"Average Firing Rate\"]/df_3[\"Average Firing Rate\"].max()"
   ]
  },
  {
   "cell_type": "code",
   "execution_count": 64,
   "id": "0303a3fe",
   "metadata": {},
   "outputs": [],
   "source": [
    "pref1 = ['Pref1']*len(df_1_norm)\n",
    "new_data = {'Pref': pref1}\n",
    "df_1_norm = df_1_norm.assign(**new_data)\n",
    "pref2 = ['Pref2']*len(df_2_norm)\n",
    "new_data = {'Pref': pref2}\n",
    "df_2_norm = df_2_norm.assign(**new_data)\n",
    "pref3 = ['Pref3']*len(df_3_norm)\n",
    "new_data = {'Pref': pref3}\n",
    "df_3_norm = df_3_norm.assign(**new_data)"
   ]
  },
  {
   "cell_type": "code",
   "execution_count": 65,
   "id": "890b23c5",
   "metadata": {},
   "outputs": [],
   "source": [
    "frames = [df_1_norm, df_2_norm, df_3_norm]\n",
    "result = pd.concat(frames)"
   ]
  },
  {
   "cell_type": "code",
   "execution_count": null,
   "id": "90a8abcc",
   "metadata": {
    "scrolled": false
   },
   "outputs": [],
   "source": [
    "prefs = ['Pref1', 'Pref2', 'Pref3']\n",
    "colors = ['dodgerblue', 'darkslateblue', 'purple']\n",
    "plt.rcParams[\"figure.figsize\"] = (3.5,5)\n",
    "fig, ax = plt.subplots()\n",
    "\n",
    "for i in range(len(prefs)):\n",
    "    \n",
    "    df = result_inh[result_inh['Pref'] == prefs[i]]\n",
    "    df_new = df.groupby(by = [\"Type\"])['Average Firing Rate'].mean()\n",
    "    df_sem = df.groupby(by = [\"Type\"])['Average Firing Rate'].sem()\n",
    "    \n",
    "    ax.scatter(df_new.index.values, df_new.values/df_new.values.max(), c = colors[i], s = 80)\n",
    "    ax.plot(df_new.index.values, df_new.values/df_new.values.max(), c = colors[i])\n",
    "    ax.errorbar(df_new.index.values, df_new.values/df_new.values.max(), df_sem.values, c = colors[i])\n",
    "    \n",
    "ax.tick_params('both', labelsize = 15)\n",
    "ax.set_ylim([0, 1.1])\n",
    "ax.margins(x=0.15)\n",
    "ax.spines[['right', 'top']].set_visible(False)\n",
    "ax.set_ylabel('Response (norm.)', fontsize = 15)\n",
    "ax.set_title('Control', fontsize = 17)\n",
    "fig.savefig(FIGURE_3_RESULTS_DIR + '/control_response_all.png', bbox_inches=\"tight\", dpi = 200)\n"
   ]
  },
  {
   "cell_type": "code",
   "execution_count": null,
   "id": "6605e442",
   "metadata": {
    "scrolled": true
   },
   "outputs": [],
   "source": [
    "\n",
    "plt.rcParams[\"figure.figsize\"] = (3.5,5)\n",
    "fig, ax = plt.subplots()\n",
    "\n",
    "df = result[result['Pref'] == prefs[0]] \n",
    "df_new = df.groupby(by = [\"Type\"])['Average Firing Rate'].mean()\n",
    "df_sem = df.groupby(by = [\"Type\"])['Average Firing Rate'].sem()\n",
    "\n",
    "df_inh = result_inh[result_inh['Pref'] == prefs[0]]\n",
    "df_inh_new = df_inh.groupby(by = [\"Type\"])['Average Firing Rate'].mean()\n",
    "df_inh_sem = df_inh.groupby(by = [\"Type\"])['Average Firing Rate'].sem()\n",
    "\n",
    "ax.scatter(df_new.index.values, df_new.values/df_new.values.max(), c = 'red', s = 100)\n",
    "ax.plot(df_new.index.values, df_new.values/df_new.values.max(), c = 'red')\n",
    "ax.errorbar(df_new.index.values, df_new.values/df_new.values.max(), df_sem.values, c = 'red')\n",
    "\n",
    "ax.scatter(df_inh_new.index.values, df_inh_new.values/df_inh_new.values.max(), c = colors[0], s = 100)\n",
    "ax.plot(df_inh_new.index.values, df_inh_new.values/df_inh_new.values.max(), c = colors[0])\n",
    "ax.errorbar(df_inh_new.index.values, df_inh_new.values/df_inh_new.values.max(), df_inh_sem.values, c = colors[0])\n",
    "\n",
    "\n",
    "ax.tick_params('both', labelsize = 15)\n",
    "ax.set_ylim([0, 1.1])\n",
    "ax.spines[['right', 'top']].set_visible(False)\n",
    "ax.set_ylabel('Response (norm.)', fontsize = 15)\n",
    "ax.set_title('DART', color = 'red', fontsize = 15)\n",
    "y_max = round(ax.get_ylim()[1])\n",
    "ax.margins(x=0.15)\n",
    "ax.text(0.80, y_max, 'NS', fontsize = 15)\n",
    "ax.text(1.85, y_max, '****', fontsize = 15)\n",
    "fig.savefig(FIGURE_3_RESULTS_DIR + '/dart_response_1.png', bbox_inches=\"tight\", dpi = 200)\n"
   ]
  },
  {
   "cell_type": "code",
   "execution_count": null,
   "id": "043adaa5",
   "metadata": {},
   "outputs": [],
   "source": [
    "stats.ttest_ind(df[df[\"Type\"] == \"P2\"][\"Average Firing Rate\"], \n",
    "         df_inh[df_inh[\"Type\"] == \"P2\"][\"Average Firing Rate\"])"
   ]
  },
  {
   "cell_type": "code",
   "execution_count": null,
   "id": "0045db85",
   "metadata": {},
   "outputs": [],
   "source": [
    "stats.ttest_ind(df[df[\"Type\"] == \"P3\"][\"Average Firing Rate\"], \n",
    "         df_inh[df_inh[\"Type\"] == \"P3\"][\"Average Firing Rate\"])"
   ]
  },
  {
   "cell_type": "code",
   "execution_count": null,
   "id": "2ee9296e",
   "metadata": {},
   "outputs": [],
   "source": [
    "\n",
    "f_oneway(df[df[\"Type\"] == \"P2\"][\"Average Firing Rate\"], df_inh[df_inh[\"Type\"] == \"P2\"][\"Average Firing Rate\"])"
   ]
  },
  {
   "cell_type": "code",
   "execution_count": null,
   "id": "8b206816",
   "metadata": {},
   "outputs": [],
   "source": [
    "f_oneway(df[df[\"Type\"] == \"P3\"][\"Average Firing Rate\"], df_inh[df_inh[\"Type\"] == \"P3\"][\"Average Firing Rate\"])"
   ]
  },
  {
   "cell_type": "code",
   "execution_count": null,
   "id": "9288f27b",
   "metadata": {},
   "outputs": [],
   "source": [
    "plt.rcParams[\"figure.figsize\"] = (3.5,5)\n",
    "fig, ax = plt.subplots()\n",
    "\n",
    "df = result[result['Pref'] == prefs[1]] \n",
    "df_new = df.groupby(by = [\"Type\"])['Average Firing Rate'].mean()\n",
    "df_sem = df.groupby(by = [\"Type\"])['Average Firing Rate'].sem()\n",
    "\n",
    "df_inh = result_inh[result_inh['Pref'] == prefs[1]]\n",
    "df_inh_new = df_inh.groupby(by = [\"Type\"])['Average Firing Rate'].mean()\n",
    "df_inh_sem = df_inh.groupby(by = [\"Type\"])['Average Firing Rate'].sem()\n",
    "\n",
    "ax.scatter(df_new.index.values, df_new.values/df_new.values.max(), c = 'red', s = 100)\n",
    "ax.plot(df_new.index.values, df_new.values/df_new.values.max(), c = 'red')\n",
    "ax.errorbar(df_new.index.values, df_new.values/df_new.values.max(), df_sem.values, c = 'red')\n",
    "\n",
    "ax.scatter(df_inh_new.index.values, df_inh_new.values/df_inh_new.values.max(), c = colors[1], s = 100)\n",
    "ax.plot(df_inh_new.index.values, df_inh_new.values/df_inh_new.values.max(), c = colors[1])\n",
    "ax.errorbar(df_inh_new.index.values, df_inh_new.values/df_inh_new.values.max(), df_inh_sem.values, c = colors[1])\n",
    "\n",
    "ax.tick_params('both', labelsize = 15)\n",
    "ax.set_ylim([0, 1.1])\n",
    "ax.spines[['right', 'top']].set_visible(False)\n",
    "ax.set_ylabel('Response (norm.)', fontsize = 15)\n",
    "ax.set_title('DART', color = 'red', fontsize = 15)\n",
    "ax.margins(x=0.15)\n",
    "y_max = round(ax.get_ylim()[1])\n",
    "ax.text(-0.05, y_max, '****', fontsize = 15)\n",
    "ax.text(1.85, y_max, 'NS', fontsize = 15)\n",
    "fig.savefig(FIGURE_3_RESULTS_DIR + '/dart_response_2.png', bbox_inches=\"tight\", dpi = 200)\n"
   ]
  },
  {
   "cell_type": "code",
   "execution_count": 73,
   "id": "2eb46f10",
   "metadata": {},
   "outputs": [],
   "source": [
    "stats.ttest_rel(df[df[\"Type\"] == \"P1\"][\"Average Firing Rate\"], \n",
    "          df_inh[df_inh[\"Type\"] == \"P1\"][\"Average Firing Rate\"])"
   ]
  },
  {
   "cell_type": "code",
   "execution_count": 74,
   "id": "f7d75b89",
   "metadata": {},
   "outputs": [],
   "source": [
    "stats.ttest_rel(df[df[\"Type\"] == \"P3\"][\"Average Firing Rate\"], \n",
    "         df_inh[df_inh[\"Type\"] == \"P3\"][\"Average Firing Rate\"])"
   ]
  },
  {
   "cell_type": "code",
   "execution_count": null,
   "id": "d6bea49c",
   "metadata": {},
   "outputs": [],
   "source": [
    "f_oneway(df[df[\"Type\"] == \"P1\"][\"Average Firing Rate\"], df_inh[df_inh[\"Type\"] == \"P1\"][\"Average Firing Rate\"])"
   ]
  },
  {
   "cell_type": "code",
   "execution_count": null,
   "id": "c96f1594",
   "metadata": {},
   "outputs": [],
   "source": [
    "f_oneway(df[df[\"Type\"] == \"P3\"][\"Average Firing Rate\"], df_inh[df_inh[\"Type\"] == \"P3\"][\"Average Firing Rate\"])"
   ]
  },
  {
   "cell_type": "code",
   "execution_count": null,
   "id": "952a3040",
   "metadata": {},
   "outputs": [],
   "source": [
    "plt.rcParams[\"figure.figsize\"] = (3.5,5)\n",
    "fig, ax = plt.subplots()\n",
    "\n",
    "df = result[result['Pref'] == prefs[2]] \n",
    "df_new = df.groupby(by = [\"Type\"])['Average Firing Rate'].mean()\n",
    "df_sem = df.groupby(by = [\"Type\"])['Average Firing Rate'].sem()\n",
    "\n",
    "df_inh = result_inh[result_inh['Pref'] == prefs[2]]\n",
    "df_inh_new = df_inh.groupby(by = [\"Type\"])['Average Firing Rate'].mean()\n",
    "df_inh_sem = df_inh.groupby(by = [\"Type\"])['Average Firing Rate'].sem()\n",
    "\n",
    "ax.scatter(df_new.index.values, df_new.values/df_new.values.max(), c = 'red', s = 100)\n",
    "ax.plot(df_new.index.values, df_new.values/df_new.values.max(), c = 'red')\n",
    "ax.errorbar(df_new.index.values, df_new.values/df_new.values.max(), df_sem.values, c = 'red')\n",
    "\n",
    "ax.scatter(df_inh_new.index.values, df_inh_new.values/df_inh_new.values.max(), c = colors[2], s = 100, facecolors='none')\n",
    "ax.plot(df_inh_new.index.values, df_inh_new.values/df_inh_new.values.max(), c = colors[2])\n",
    "ax.errorbar(df_inh_new.index.values, df_inh_new.values/df_inh_new.values.max(), df_inh_sem.values, c = colors[2])\n",
    "\n",
    "ax.tick_params('both', labelsize = 15)\n",
    "ax.set_ylim([0, 1.1])\n",
    "ax.spines[['right', 'top']].set_visible(False)\n",
    "ax.set_ylabel('Response (norm.)', fontsize = 15)\n",
    "ax.set_title('DART', color = 'red', fontsize = 15)\n",
    "ax.margins(x=0.15)\n",
    "ax.text(0.0, y_max, 'NS', fontsize = 15)\n",
    "ax.text(0.80, y_max, '***', fontsize = 15)\n",
    "fig.savefig(FIGURE_3_RESULTS_DIR + '/dart_response_3.png', bbox_inches=\"tight\", dpi = 200)"
   ]
  },
  {
   "cell_type": "code",
   "execution_count": null,
   "id": "89778d6b",
   "metadata": {},
   "outputs": [],
   "source": [
    "\n",
    "f_oneway(df[df[\"Type\"] == \"P1\"][\"Average Firing Rate\"], df_inh[df_inh[\"Type\"] == \"P1\"][\"Average Firing Rate\"])"
   ]
  },
  {
   "cell_type": "code",
   "execution_count": null,
   "id": "66bff231",
   "metadata": {},
   "outputs": [],
   "source": [
    "f_oneway(df[df[\"Type\"] == \"P2\"][\"Average Firing Rate\"], df_inh[df_inh[\"Type\"] == \"P2\"][\"Average Firing Rate\"])"
   ]
  }
 ],
 "metadata": {
  "kernelspec": {
   "display_name": "myenv",
   "language": "python",
   "name": "myenv"
  },
  "language_info": {
   "codemirror_mode": {
    "name": "ipython",
    "version": 3
   },
   "file_extension": ".py",
   "mimetype": "text/x-python",
   "name": "python",
   "nbconvert_exporter": "python",
   "pygments_lexer": "ipython3",
   "version": "3.8.10"
  }
 },
 "nbformat": 4,
 "nbformat_minor": 5
}
